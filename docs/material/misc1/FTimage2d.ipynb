{
 "cells": [
  {
   "cell_type": "markdown",
   "id": "b70f14ae",
   "metadata": {},
   "source": [
    "[![Open In Colab](https://colab.research.google.com/assets/colab-badge.svg)](https://github.com/borisbolliet/ResearchComputing/blob/main/docs/material/misc1/FTimage2d.ipynb)"
   ]
  },
  {
   "cell_type": "markdown",
   "id": "7a8cb482-210c-42d6-b814-c5474086e2bf",
   "metadata": {},
   "source": [
    "# Straight lines"
   ]
  },
  {
   "cell_type": "code",
   "execution_count": 2,
   "id": "cbe413c4-8559-4f7a-a42f-c6ccd0febe81",
   "metadata": {},
   "outputs": [
    {
     "data": {
      "application/vnd.jupyter.widget-view+json": {
       "model_id": "cc11133cdb7e41628eb5d464dba3f4df",
       "version_major": 2,
       "version_minor": 0
      },
      "text/plain": [
       "interactive(children=(FloatSlider(value=0.0, description='Angle (°):', max=90.0, step=1.0), Output(layout=Layo…"
      ]
     },
     "execution_count": 2,
     "metadata": {},
     "output_type": "execute_result"
    }
   ],
   "source": [
    "import numpy as np\n",
    "import matplotlib.pyplot as plt\n",
    "from ipywidgets import interactive\n",
    "import ipywidgets as widgets\n",
    "\n",
    "# Function to generate an image with straight stripes at a given angle\n",
    "def generate_stripe_image(angle_deg, image_size=64, stripe_width=4):\n",
    "    angle = np.deg2rad(angle_deg)\n",
    "    image = np.zeros((image_size, image_size))\n",
    "    \n",
    "    # Create a grid of coordinates\n",
    "    y, x = np.meshgrid(np.arange(image_size), np.arange(image_size))\n",
    "    \n",
    "    # Rotate the grid to apply the stripe pattern at the specified angle\n",
    "    x_rot = x * np.cos(angle) + y * np.sin(angle)\n",
    "    \n",
    "    # Create vertical stripes in the rotated grid\n",
    "    image[np.mod(x_rot, stripe_width * 2) < stripe_width] = 255\n",
    "    \n",
    "    return image\n",
    "\n",
    "# Function to update and display the Fourier transform as the angle changes\n",
    "def update_stripe_orientation(angle_deg):\n",
    "    # Generate the rotated stripe image\n",
    "    image = generate_stripe_image(angle_deg)\n",
    "    \n",
    "    # Perform 2D Fourier transform\n",
    "    f_transform = np.fft.fftshift(np.fft.fft2(image))\n",
    "    \n",
    "    # Calculate magnitude and phase\n",
    "    magnitude = np.abs(f_transform)\n",
    "    phase = np.angle(f_transform)\n",
    "    \n",
    "    # Plot the original image, magnitude, and phase\n",
    "    plt.figure(figsize=(15, 5))\n",
    "    \n",
    "    plt.subplot(1, 3, 1)\n",
    "    plt.imshow(image, cmap='gray')\n",
    "    plt.title(f\"Original Image (Stripes {angle_deg}°)\")\n",
    "    plt.axis('off')\n",
    "    \n",
    "    plt.subplot(1, 3, 2)\n",
    "    plt.imshow(np.log(1 + magnitude), cmap='gray')\n",
    "    plt.title(\"Magnitude Spectrum\")\n",
    "    plt.axis('off')\n",
    "    \n",
    "    plt.subplot(1, 3, 3)\n",
    "    plt.imshow(phase, cmap='gray')\n",
    "    plt.title(\"Phase Spectrum\")\n",
    "    plt.axis('off')\n",
    "    \n",
    "    plt.show()\n",
    "\n",
    "# Create the interactive widget for adjusting stripe orientation\n",
    "interactive_plot = interactive(update_stripe_orientation, angle_deg=widgets.FloatSlider(value=0, min=0, max=90, step=1, description='Angle (°):'))\n",
    "output = interactive_plot.children[-1]\n",
    "output.layout.height = '400px'\n",
    "interactive_plot"
   ]
  },
  {
   "cell_type": "markdown",
   "id": "a8fabd08-2676-4f18-aea3-7e3a321efb9f",
   "metadata": {},
   "source": [
    "# Sinusoidal grating\n",
    "\n",
    "\n",
    "**Magnitude interpretation**: For a sinusoidal pattern, the magnitude of the Fourier transform will show a strong peak at the spatial frequency corresponding to the wavelength of the sinusoid.\n",
    "For a sinusoidal grating, the magnitude spectrum will show two strong peaks in opposite directions, corresponding to the fundamental frequency of the grating.\n",
    "\n",
    "\n",
    "**Phase interpretation**: The phase will provide information about the position and orientation of the sinusoidal pattern.\n",
    "A simple sinusoidal pattern will have a clear and interpretable phase behavior because the pattern is continuous and periodic."
   ]
  },
  {
   "cell_type": "code",
   "execution_count": 4,
   "id": "6edceff9-a09f-449b-9bc0-00701b575e68",
   "metadata": {},
   "outputs": [
    {
     "data": {
      "application/vnd.jupyter.widget-view+json": {
       "model_id": "210cc9631f074d64b676f9eb1a8d3d87",
       "version_major": 2,
       "version_minor": 0
      },
      "text/plain": [
       "interactive(children=(FloatSlider(value=0.0, description='Angle (°):', max=90.0, step=1.0), Output(layout=Layo…"
      ]
     },
     "execution_count": 4,
     "metadata": {},
     "output_type": "execute_result"
    }
   ],
   "source": [
    "import numpy as np\n",
    "import matplotlib.pyplot as plt\n",
    "from ipywidgets import interactive\n",
    "import ipywidgets as widgets\n",
    "\n",
    "# Function to generate sinusoidal grating pattern at a given angle and frequency\n",
    "def generate_sinusoidal_grating(angle_deg, frequency=5, image_size=64):\n",
    "    angle = np.deg2rad(angle_deg)\n",
    "    # Create a grid of coordinates\n",
    "    y, x = np.meshgrid(np.linspace(-1, 1, image_size), np.linspace(-1, 1, image_size))\n",
    "    \n",
    "    # Apply the rotation to the grid\n",
    "    x_rot = x * np.cos(angle) + y * np.sin(angle)\n",
    "    \n",
    "    # Generate the sinusoidal grating pattern\n",
    "    image = 127.5 * (1 + np.sin(2 * np.pi * frequency * x_rot))  # Sinusoidal pattern between 0 and 255\n",
    "    \n",
    "    return image\n",
    "\n",
    "# Function to update and display the Fourier transform as the angle changes\n",
    "def update_sinusoidal_grating(angle_deg):\n",
    "    # Generate the rotated sinusoidal grating image\n",
    "    image = generate_sinusoidal_grating(angle_deg)\n",
    "    \n",
    "    # Perform 2D Fourier transform\n",
    "    f_transform = np.fft.fftshift(np.fft.fft2(image))\n",
    "    \n",
    "    # Calculate magnitude and phase\n",
    "    magnitude = np.abs(f_transform)\n",
    "    phase = np.angle(f_transform)\n",
    "    \n",
    "    # Plot the original image, magnitude, and phase\n",
    "    plt.figure(figsize=(15, 5))\n",
    "    \n",
    "    plt.subplot(1, 3, 1)\n",
    "    plt.imshow(image, cmap='gray')\n",
    "    plt.title(f\"Sinusoidal Grating (Angle {angle_deg}°)\")\n",
    "    plt.axis('off')\n",
    "    \n",
    "    plt.subplot(1, 3, 2)\n",
    "    plt.imshow(np.log(1 + magnitude), cmap='gray')\n",
    "    plt.title(\"Magnitude Spectrum\")\n",
    "    plt.axis('off')\n",
    "    \n",
    "    plt.subplot(1, 3, 3)\n",
    "    plt.imshow(phase, cmap='gray')\n",
    "    plt.title(\"Phase Spectrum\")\n",
    "    plt.axis('off')\n",
    "    \n",
    "    plt.show()\n",
    "\n",
    "# Create the interactive widget for adjusting the angle of the sinusoidal grating\n",
    "interactive_plot = interactive(update_sinusoidal_grating, angle_deg=widgets.FloatSlider(value=0, min=0, max=90, step=1, description='Angle (°):'))\n",
    "output = interactive_plot.children[-1]\n",
    "output.layout.height = '400px'\n",
    "interactive_plot\n"
   ]
  },
  {
   "cell_type": "markdown",
   "id": "f4bd310d-4619-4155-accb-8d0934744a7c",
   "metadata": {},
   "source": [
    "# Gaussian ellipse"
   ]
  },
  {
   "cell_type": "code",
   "execution_count": 5,
   "id": "454cfcca-54a0-4dfe-ae40-be24669a5b87",
   "metadata": {},
   "outputs": [
    {
     "data": {
      "application/vnd.jupyter.widget-view+json": {
       "model_id": "af66d495532c496fa866e813b80e43db",
       "version_major": 2,
       "version_minor": 0
      },
      "text/plain": [
       "interactive(children=(FloatSlider(value=0.0, description='Angle (°):', max=180.0, step=1.0), FloatSlider(value…"
      ]
     },
     "execution_count": 5,
     "metadata": {},
     "output_type": "execute_result"
    }
   ],
   "source": [
    "import numpy as np\n",
    "import matplotlib.pyplot as plt\n",
    "from ipywidgets import interactive\n",
    "import ipywidgets as widgets\n",
    "\n",
    "# Function to generate a Gaussian ellipsoid pattern with adjustable major/minor axis and orientation\n",
    "def generate_gaussian_ellipsoid(angle_deg, major_axis=10, minor_axis=5, image_size=64):\n",
    "    angle = np.deg2rad(angle_deg)\n",
    "    \n",
    "    # Create a grid of coordinates\n",
    "    y, x = np.meshgrid(np.linspace(-1, 1, image_size), np.linspace(-1, 1, image_size))\n",
    "    \n",
    "    # Rotate the grid by the specified angle\n",
    "    x_rot = x * np.cos(angle) + y * np.sin(angle)\n",
    "    y_rot = -x * np.sin(angle) + y * np.cos(angle)\n",
    "    \n",
    "    # Create the Gaussian ellipsoid pattern\n",
    "    gaussian = np.exp(-((x_rot**2) / (2 * (major_axis / image_size)**2) + (y_rot**2) / (2 * (minor_axis / image_size)**2)))\n",
    "    \n",
    "    return gaussian * 255  # Normalize to [0, 255] for display purposes\n",
    "\n",
    "# Function to update and display the Fourier transform for the Gaussian ellipsoid as the parameters change\n",
    "def update_gaussian_ellipsoid(angle_deg, major_axis, minor_axis):\n",
    "    # Generate the Gaussian ellipsoid pattern with the given parameters\n",
    "    image = generate_gaussian_ellipsoid(angle_deg, major_axis, minor_axis)\n",
    "    \n",
    "    # Perform 2D Fourier transform\n",
    "    f_transform = np.fft.fftshift(np.fft.fft2(image))\n",
    "    \n",
    "    # Calculate magnitude and phase\n",
    "    magnitude = np.abs(f_transform)\n",
    "    phase = np.angle(f_transform)\n",
    "    \n",
    "    # Plot the original image, magnitude, and phase\n",
    "    plt.figure(figsize=(15, 5))\n",
    "    \n",
    "    plt.subplot(1, 3, 1)\n",
    "    plt.imshow(image, cmap='gray')\n",
    "    plt.title(f\"Gaussian Ellipsoid (Angle {angle_deg}°, Major: {major_axis}, Minor: {minor_axis})\")\n",
    "    plt.axis('off')\n",
    "    \n",
    "    plt.subplot(1, 3, 2)\n",
    "    plt.imshow(np.log(1 + magnitude), cmap='gray')\n",
    "    plt.title(\"Magnitude Spectrum\")\n",
    "    plt.axis('off')\n",
    "    \n",
    "    plt.subplot(1, 3, 3)\n",
    "    plt.imshow(phase, cmap='gray')\n",
    "    plt.title(\"Phase Spectrum\")\n",
    "    plt.axis('off')\n",
    "    \n",
    "    plt.show()\n",
    "\n",
    "# Create interactive widgets for adjusting the ellipsoid's orientation, major/minor axis\n",
    "interactive_plot = interactive(update_gaussian_ellipsoid, \n",
    "                               angle_deg=widgets.FloatSlider(value=0, min=0, max=180, step=1, description='Angle (°):'),\n",
    "                               major_axis=widgets.FloatSlider(value=10, min=1, max=20, step=1, description='Major Axis:'),\n",
    "                               minor_axis=widgets.FloatSlider(value=5, min=1, max=20, step=1, description='Minor Axis:'))\n",
    "output = interactive_plot.children[-1]\n",
    "output.layout.height = '400px'\n",
    "interactive_plot\n"
   ]
  },
  {
   "cell_type": "code",
   "execution_count": null,
   "id": "c99e793e-8932-482c-a926-e2e331014c99",
   "metadata": {},
   "outputs": [],
   "source": []
  }
 ],
 "metadata": {
  "kernelspec": {
   "display_name": "Python (cmb_agent)",
   "language": "python",
   "name": "cmb_agent"
  },
  "language_info": {
   "codemirror_mode": {
    "name": "ipython",
    "version": 3
   },
   "file_extension": ".py",
   "mimetype": "text/x-python",
   "name": "python",
   "nbconvert_exporter": "python",
   "pygments_lexer": "ipython3",
   "version": "3.9.13"
  }
 },
 "nbformat": 4,
 "nbformat_minor": 5
}
