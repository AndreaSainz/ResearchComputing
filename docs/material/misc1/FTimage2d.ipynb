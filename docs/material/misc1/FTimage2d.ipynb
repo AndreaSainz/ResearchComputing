{
 "cells": [
  {
   "cell_type": "markdown",
   "id": "fdcefa9b",
   "metadata": {},
   "source": [
    "# Fourier transform of 2D images"
   ]
  },
  {
   "cell_type": "markdown",
   "id": "b70f14ae",
   "metadata": {},
   "source": [
    "[![View filled on Github](https://img.shields.io/static/v1.svg?logo=github&label=Repo&message=View%20On%20Github&color=lightgrey)](https://github.com/borisbolliet/ResearchComputing/blob/main/docs/material/misc1/FTimage2d.ipynb) [![Open In Colab](https://colab.research.google.com/assets/colab-badge.svg)](https://colab.research.google.com/github/borisbolliet/ResearchComputing/blob/main/docs/material/misc1/FTimage2d.ipynb)"
   ]
  },
  {
   "cell_type": "markdown",
   "id": "7a8cb482-210c-42d6-b814-c5474086e2bf",
   "metadata": {},
   "source": [
    "## Straight lines"
   ]
  },
  {
   "cell_type": "code",
   "execution_count": 1,
   "id": "cbe413c4-8559-4f7a-a42f-c6ccd0febe81",
   "metadata": {},
   "outputs": [
    {
     "data": {
      "application/vnd.jupyter.widget-view+json": {
       "model_id": "3758a574c0324ab3a1f08d285623cc91",
       "version_major": 2,
       "version_minor": 0
      },
      "text/plain": [
       "interactive(children=(FloatSlider(value=0.0, description='Angle (°):', max=90.0, step=1.0), Output(layout=Layo…"
      ]
     },
     "execution_count": 1,
     "metadata": {},
     "output_type": "execute_result"
    }
   ],
   "source": [
    "import numpy as np\n",
    "import matplotlib.pyplot as plt\n",
    "from ipywidgets import interactive\n",
    "import ipywidgets as widgets\n",
    "\n",
    "# Function to generate an image with straight stripes at a given angle\n",
    "def generate_stripe_image(angle_deg, image_size=64, stripe_width=4):\n",
    "    angle = np.deg2rad(angle_deg)\n",
    "    image = np.zeros((image_size, image_size))\n",
    "    \n",
    "    # Create a grid of coordinates\n",
    "    y, x = np.meshgrid(np.arange(image_size), np.arange(image_size))\n",
    "    \n",
    "    # Rotate the grid to apply the stripe pattern at the specified angle\n",
    "    x_rot = x * np.cos(angle) + y * np.sin(angle)\n",
    "    \n",
    "    # Create vertical stripes in the rotated grid\n",
    "    image[np.mod(x_rot, stripe_width * 2) < stripe_width] = 255\n",
    "    \n",
    "    return image\n",
    "\n",
    "# Function to update and display the Fourier transform as the angle changes\n",
    "def update_stripe_orientation(angle_deg):\n",
    "    # Generate the rotated stripe image\n",
    "    image = generate_stripe_image(angle_deg)\n",
    "    \n",
    "    # Perform 2D Fourier transform\n",
    "    f_transform = np.fft.fftshift(np.fft.fft2(image))\n",
    "    \n",
    "    # Calculate magnitude and phase\n",
    "    magnitude = np.abs(f_transform)\n",
    "    phase = np.angle(f_transform)\n",
    "    \n",
    "    # Plot the original image, magnitude, and phase\n",
    "    plt.figure(figsize=(15, 5))\n",
    "    \n",
    "    plt.subplot(1, 3, 1)\n",
    "    plt.imshow(image, cmap='gray')\n",
    "    plt.title(f\"Original Image (Stripes {angle_deg}°)\")\n",
    "    plt.axis('off')\n",
    "    \n",
    "    plt.subplot(1, 3, 2)\n",
    "    plt.imshow(np.log(1 + magnitude), cmap='gray')\n",
    "    plt.title(\"Magnitude\")\n",
    "    plt.axis('off')\n",
    "    \n",
    "    plt.subplot(1, 3, 3)\n",
    "    plt.imshow(phase, cmap='gray')\n",
    "    plt.title(\"Phase\")\n",
    "    plt.axis('off')\n",
    "    \n",
    "    plt.show()\n",
    "\n",
    "# Create the interactive widget for adjusting stripe orientation\n",
    "interactive_plot = interactive(update_stripe_orientation, angle_deg=widgets.FloatSlider(value=0, min=0, max=90, step=1, description='Angle (°):'))\n",
    "output = interactive_plot.children[-1]\n",
    "output.layout.height = '400px'\n",
    "interactive_plot"
   ]
  },
  {
   "cell_type": "markdown",
   "id": "a8fabd08-2676-4f18-aea3-7e3a321efb9f",
   "metadata": {},
   "source": [
    "## Sinusoidal grating\n",
    "\n",
    "\n",
    "**Magnitude interpretation**: For a sinusoidal pattern, the magnitude of the Fourier transform will show a strong peak at the spatial frequency corresponding to the wavelength of the sinusoid.\n",
    "For a sinusoidal grating, the magnitude spectrum will show two strong peaks in opposite directions, corresponding to the fundamental frequency of the grating.\n",
    "\n",
    "\n",
    "**Phase interpretation**: The phase will provide information about the position and orientation of the sinusoidal pattern.\n",
    "A simple sinusoidal pattern will have a clear and interpretable phase behavior because the pattern is continuous and periodic."
   ]
  },
  {
   "cell_type": "code",
   "execution_count": 2,
   "id": "6edceff9-a09f-449b-9bc0-00701b575e68",
   "metadata": {},
   "outputs": [
    {
     "data": {
      "application/vnd.jupyter.widget-view+json": {
       "model_id": "ddf6054cb2ac463fa627cfd9c97155cf",
       "version_major": 2,
       "version_minor": 0
      },
      "text/plain": [
       "interactive(children=(FloatSlider(value=0.0, description='Angle (°):', max=90.0, step=1.0), Output(layout=Layo…"
      ]
     },
     "execution_count": 2,
     "metadata": {},
     "output_type": "execute_result"
    }
   ],
   "source": [
    "import numpy as np\n",
    "import matplotlib.pyplot as plt\n",
    "from ipywidgets import interactive\n",
    "import ipywidgets as widgets\n",
    "\n",
    "# Function to generate sinusoidal grating pattern at a given angle and frequency\n",
    "def generate_sinusoidal_grating(angle_deg, frequency=5, image_size=64):\n",
    "    angle = np.deg2rad(angle_deg)\n",
    "    # Create a grid of coordinates\n",
    "    y, x = np.meshgrid(np.linspace(-1, 1, image_size), np.linspace(-1, 1, image_size))\n",
    "    \n",
    "    # Apply the rotation to the grid\n",
    "    x_rot = x * np.cos(angle) + y * np.sin(angle)\n",
    "    \n",
    "    # Generate the sinusoidal grating pattern\n",
    "    image = 127.5 * (1 + np.sin(2 * np.pi * frequency * x_rot))  # Sinusoidal pattern between 0 and 255\n",
    "    \n",
    "    return image\n",
    "\n",
    "# Function to update and display the Fourier transform as the angle changes\n",
    "def update_sinusoidal_grating(angle_deg):\n",
    "    # Generate the rotated sinusoidal grating image\n",
    "    image = generate_sinusoidal_grating(angle_deg)\n",
    "    \n",
    "    # Perform 2D Fourier transform\n",
    "    f_transform = np.fft.fftshift(np.fft.fft2(image))\n",
    "    \n",
    "    # Calculate magnitude and phase\n",
    "    magnitude = np.abs(f_transform)\n",
    "    phase = np.angle(f_transform)\n",
    "    \n",
    "    # Plot the original image, magnitude, and phase\n",
    "    plt.figure(figsize=(15, 5))\n",
    "    \n",
    "    plt.subplot(1, 3, 1)\n",
    "    plt.imshow(image, cmap='gray')\n",
    "    plt.title(f\"Sinusoidal Grating (Angle {angle_deg}°)\")\n",
    "    plt.axis('off')\n",
    "    \n",
    "    plt.subplot(1, 3, 2)\n",
    "    plt.imshow(np.log(1 + magnitude), cmap='gray')\n",
    "    plt.title(\"Magnitude\")\n",
    "    plt.axis('off')\n",
    "    \n",
    "    plt.subplot(1, 3, 3)\n",
    "    plt.imshow(phase, cmap='gray')\n",
    "    plt.title(\"Phase\")\n",
    "    plt.axis('off')\n",
    "    \n",
    "    plt.show()\n",
    "\n",
    "# Create the interactive widget for adjusting the angle of the sinusoidal grating\n",
    "interactive_plot = interactive(update_sinusoidal_grating, angle_deg=widgets.FloatSlider(value=0, min=0, max=90, step=1, description='Angle (°):'))\n",
    "output = interactive_plot.children[-1]\n",
    "output.layout.height = '400px'\n",
    "interactive_plot\n"
   ]
  },
  {
   "cell_type": "markdown",
   "id": "f4bd310d-4619-4155-accb-8d0934744a7c",
   "metadata": {},
   "source": [
    "## Gaussian ellipse"
   ]
  },
  {
   "cell_type": "code",
   "execution_count": 3,
   "id": "454cfcca-54a0-4dfe-ae40-be24669a5b87",
   "metadata": {},
   "outputs": [
    {
     "data": {
      "application/vnd.jupyter.widget-view+json": {
       "model_id": "8a67daf3423a4cf0b8b39fb8a51831bf",
       "version_major": 2,
       "version_minor": 0
      },
      "text/plain": [
       "interactive(children=(FloatSlider(value=0.0, description='Angle (°):', max=180.0, step=1.0), FloatSlider(value…"
      ]
     },
     "execution_count": 3,
     "metadata": {},
     "output_type": "execute_result"
    }
   ],
   "source": [
    "import numpy as np\n",
    "import matplotlib.pyplot as plt\n",
    "from ipywidgets import interactive\n",
    "import ipywidgets as widgets\n",
    "\n",
    "# Function to generate a Gaussian ellipsoid pattern with adjustable major/minor axis and orientation\n",
    "def generate_gaussian_ellipsoid(angle_deg, major_axis=10, minor_axis=5, image_size=64):\n",
    "    angle = np.deg2rad(angle_deg)\n",
    "    \n",
    "    # Create a grid of coordinates\n",
    "    y, x = np.meshgrid(np.linspace(-1, 1, image_size), np.linspace(-1, 1, image_size))\n",
    "    \n",
    "    # Rotate the grid by the specified angle\n",
    "    x_rot = x * np.cos(angle) + y * np.sin(angle)\n",
    "    y_rot = -x * np.sin(angle) + y * np.cos(angle)\n",
    "    \n",
    "    # Create the Gaussian ellipsoid pattern\n",
    "    gaussian = np.exp(-((x_rot**2) / (2 * (major_axis / image_size)**2) + (y_rot**2) / (2 * (minor_axis / image_size)**2)))\n",
    "    \n",
    "    return gaussian * 255  # Normalize to [0, 255] for display purposes\n",
    "\n",
    "# Function to update and display the Fourier transform for the Gaussian ellipsoid as the parameters change\n",
    "def update_gaussian_ellipsoid(angle_deg, major_axis, minor_axis):\n",
    "    # Generate the Gaussian ellipsoid pattern with the given parameters\n",
    "    image = generate_gaussian_ellipsoid(angle_deg, major_axis, minor_axis)\n",
    "    \n",
    "    # Perform 2D Fourier transform\n",
    "    f_transform = np.fft.fftshift(np.fft.fft2(image))\n",
    "    \n",
    "    # Calculate magnitude and phase\n",
    "    magnitude = np.abs(f_transform)\n",
    "    phase = np.angle(f_transform)\n",
    "    \n",
    "    # Plot the original image, magnitude, and phase\n",
    "    plt.figure(figsize=(15, 5))\n",
    "    \n",
    "    plt.subplot(1, 3, 1)\n",
    "    plt.imshow(image, cmap='gray')\n",
    "    plt.title(f\"Gaussian Ellipsoid (Angle {angle_deg}°, Major: {major_axis}, Minor: {minor_axis})\")\n",
    "    plt.axis('off')\n",
    "    \n",
    "    plt.subplot(1, 3, 2)\n",
    "    plt.imshow(np.log(1 + magnitude), cmap='gray')\n",
    "    plt.title(\"Magnitude\")\n",
    "    plt.axis('off')\n",
    "    \n",
    "    plt.subplot(1, 3, 3)\n",
    "    plt.imshow(phase, cmap='gray')\n",
    "    plt.title(\"Phase\")\n",
    "    plt.axis('off')\n",
    "    \n",
    "    plt.show()\n",
    "\n",
    "# Create interactive widgets for adjusting the ellipsoid's orientation, major/minor axis\n",
    "interactive_plot = interactive(update_gaussian_ellipsoid, \n",
    "                               angle_deg=widgets.FloatSlider(value=0, min=0, max=180, step=1, description='Angle (°):'),\n",
    "                               major_axis=widgets.FloatSlider(value=10, min=1, max=20, step=1, description='Major Axis:'),\n",
    "                               minor_axis=widgets.FloatSlider(value=5, min=1, max=20, step=1, description='Minor Axis:'))\n",
    "output = interactive_plot.children[-1]\n",
    "output.layout.height = '400px'\n",
    "interactive_plot\n"
   ]
  },
  {
   "cell_type": "markdown",
   "id": "ae8e7b50-0873-4e41-a3b5-9ffd96cf99a3",
   "metadata": {},
   "source": [
    "![Gaussian 2D Fourier Transform](gaussian_2dft.png)"
   ]
  },
  {
   "cell_type": "code",
   "execution_count": null,
   "id": "053da822-b8c7-4782-b3cc-11ce6adb80fb",
   "metadata": {},
   "outputs": [],
   "source": []
  }
 ],
 "metadata": {
  "kernelspec": {
   "display_name": "Python 3 (ipykernel)",
   "language": "python",
   "name": "python3"
  },
  "language_info": {
   "codemirror_mode": {
    "name": "ipython",
    "version": 3
   },
   "file_extension": ".py",
   "mimetype": "text/x-python",
   "name": "python",
   "nbconvert_exporter": "python",
   "pygments_lexer": "ipython3",
   "version": "3.9.13"
  },
  "widgets": {
   "application/vnd.jupyter.widget-state+json": {
    "state": {
     "0644409c43bf4e77908a04ec88c80d0d": {
      "model_module": "@jupyter-widgets/controls",
      "model_module_version": "2.0.0",
      "model_name": "SliderStyleModel",
      "state": {
       "description_width": ""
      }
     },
     "1d9495865cf24241a3d1e4e5fcc61a5b": {
      "model_module": "@jupyter-widgets/controls",
      "model_module_version": "2.0.0",
      "model_name": "FloatSliderModel",
      "state": {
       "behavior": "drag-tap",
       "description": "Major Axis:",
       "layout": "IPY_MODEL_8633f74c96224796aa45da1d49477a2c",
       "max": 20,
       "min": 1,
       "style": "IPY_MODEL_453a17c75be5405a8e128130158401aa",
       "value": 10.000000000000002
      }
     },
     "21e96e2ef553408c90faf314e266d85c": {
      "model_module": "@jupyter-widgets/base",
      "model_module_version": "2.0.0",
      "model_name": "LayoutModel",
      "state": {}
     },
     "244aeee95ba043d9b32eedf33aaf560d": {
      "model_module": "@jupyter-widgets/base",
      "model_module_version": "2.0.0",
      "model_name": "LayoutModel",
      "state": {}
     },
     "3758a574c0324ab3a1f08d285623cc91": {
      "model_module": "@jupyter-widgets/controls",
      "model_module_version": "2.0.0",
      "model_name": "VBoxModel",
      "state": {
       "_dom_classes": [
        "widget-interact"
       ],
       "children": [
        "IPY_MODEL_d2acaa5d30e14e909b13856ce9b23e92",
        "IPY_MODEL_8be01f2b74d34e8bb11fb7fe8ab1d8ea"
       ],
       "layout": "IPY_MODEL_d08448ec219443409411c4613e8855ab"
      }
     },
     "3943e3ec06b740a08375599f5dc968c2": {
      "model_module": "@jupyter-widgets/output",
      "model_module_version": "1.0.0",
      "model_name": "OutputModel",
      "state": {
       "layout": "IPY_MODEL_f20442a9f4a24ab3b40ece2b11693f55",
       "outputs": [
        {
         "data": {
          "image/png": "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\n",
          "text/plain": "<Figure size 1500x500 with 3 Axes>"
         },
         "metadata": {},
         "output_type": "display_data"
        }
       ]
      }
     },
     "3af2712e3764433b843c8614a125048c": {
      "model_module": "@jupyter-widgets/base",
      "model_module_version": "2.0.0",
      "model_name": "LayoutModel",
      "state": {
       "height": "400px"
      }
     },
     "4325bd929d3b4647a6359ae909e8f47a": {
      "model_module": "@jupyter-widgets/controls",
      "model_module_version": "2.0.0",
      "model_name": "FloatSliderModel",
      "state": {
       "behavior": "drag-tap",
       "description": "Angle (°):",
       "layout": "IPY_MODEL_974e9346e16e493fafaed2e2bbbbbb71",
       "max": 180,
       "style": "IPY_MODEL_0644409c43bf4e77908a04ec88c80d0d"
      }
     },
     "453a17c75be5405a8e128130158401aa": {
      "model_module": "@jupyter-widgets/controls",
      "model_module_version": "2.0.0",
      "model_name": "SliderStyleModel",
      "state": {
       "description_width": ""
      }
     },
     "704df47552e74ea9aa5869e1a09452a8": {
      "model_module": "@jupyter-widgets/base",
      "model_module_version": "2.0.0",
      "model_name": "LayoutModel",
      "state": {}
     },
     "71b7806425344e58b59a146fd1a846c6": {
      "model_module": "@jupyter-widgets/base",
      "model_module_version": "2.0.0",
      "model_name": "LayoutModel",
      "state": {
       "height": "400px"
      }
     },
     "83f7d153266b4adca22d0c0e5aede35c": {
      "model_module": "@jupyter-widgets/controls",
      "model_module_version": "2.0.0",
      "model_name": "SliderStyleModel",
      "state": {
       "description_width": ""
      }
     },
     "8623525e16964843864dac8f70d86cb1": {
      "model_module": "@jupyter-widgets/base",
      "model_module_version": "2.0.0",
      "model_name": "LayoutModel",
      "state": {}
     },
     "8633f74c96224796aa45da1d49477a2c": {
      "model_module": "@jupyter-widgets/base",
      "model_module_version": "2.0.0",
      "model_name": "LayoutModel",
      "state": {}
     },
     "8a67daf3423a4cf0b8b39fb8a51831bf": {
      "model_module": "@jupyter-widgets/controls",
      "model_module_version": "2.0.0",
      "model_name": "VBoxModel",
      "state": {
       "_dom_classes": [
        "widget-interact"
       ],
       "children": [
        "IPY_MODEL_4325bd929d3b4647a6359ae909e8f47a",
        "IPY_MODEL_1d9495865cf24241a3d1e4e5fcc61a5b",
        "IPY_MODEL_be37289141f7454e9ebd2268960ffb7c",
        "IPY_MODEL_965f7f3057e043038006bec62adec050"
       ],
       "layout": "IPY_MODEL_244aeee95ba043d9b32eedf33aaf560d"
      }
     },
     "8be01f2b74d34e8bb11fb7fe8ab1d8ea": {
      "model_module": "@jupyter-widgets/output",
      "model_module_version": "1.0.0",
      "model_name": "OutputModel",
      "state": {
       "layout": "IPY_MODEL_3af2712e3764433b843c8614a125048c",
       "outputs": [
        {
         "data": {
          "image/png": "iVBORw0KGgoAAAANSUhEUgAABJ4AAAGACAYAAADs96imAAAAOXRFWHRTb2Z0d2FyZQBNYXRwbG90bGliIHZlcnNpb24zLjYuMiwgaHR0cHM6Ly9tYXRwbG90bGliLm9yZy8o6BhiAAAACXBIWXMAAA9hAAAPYQGoP6dpAAAqUElEQVR4nO3dfbzX8/0/8OfpnL7nnE7X1LpAdIGh7yiTRVLTLSlk0lcZ1UzM1fwIY6wLtDWrL1+KMbeQYdOSsRk2uRytmatvxooyY5RIphT1+v3hdj7fPp1TqvXqoPv9r87r/Xp/3s/3uzqvz+fxeb1f75KUUgoAAAAA2MLq1XUBAAAAAHwxCZ4AAAAAyELwBAAAAEAWgicAAAAAshA8AQAAAJCF4AkAAACALARPAAAAAGQheAIAAAAgC8ETAAAAAFkInragMWPGRElJyWbte+ONN0ZJSUksXLhwyxa1loULF0ZJSUnceOON2Y7xefPaa69FRUVFPP7441vtmAcffHAcfPDBW+14n3UrV66stX3//feP8847bytXA7Bpdt555xg+fPhWOdbWeK8AwJZT/Xv7z3/+c12XAnVK8BQRc+fOjW9+85vRtm3bKC8vjzZt2sRxxx0Xc+fOrevS6sRDDz0UJSUlMX369LouJbtx48ZFt27d4oADDihqv/vuu6Nnz57RsmXLaNCgQbRv3z4GDx4cv/vd7wp93njjjRgzZkw888wzW7nqvFauXBnnn39+tGnTJiorK6Nbt27xwAMPbPT+r7/+egwePDiaNm0ajRs3jiOPPDJeeeWVGv3+8pe/xO677x6VlZXRo0ePeO2114q2n3/++TF58uR48803/+1zAj4fqt+gl5SUxGOPPVZje0opdtxxxygpKYkBAwbUQYWf7oUXXogxY8YIhwC+4NYes0pKSqKioiJ23XXXOP300+Ott96q6/LgM2WbD55mzJgRXbp0iT/84Q8xYsSImDJlSpx44okxa9as6NKlS9x5550b/VoXXXRRrFixYrPqOP7442PFihXRrl27zdqfTbd48eK46aab4pRTTilq/8lPfhJHHHFElJSUxAUXXBD//d//HUcffXTMmzcvbr/99kK/N954I8aOHbvJwdP9998f999//5Y4hSyGDx8ekyZNiuOOOy6uvPLKKC0tjcMOO6zWD4Hr+te//hW9evWKhx9+OC688MIYO3ZsPP3009GzZ89YsmRJUd9jjz02Dj744Jg5c2a0bNkyTj755KLtRx55ZDRu3DimTJmyRc8P+OyrqKiIW2+9tUb7ww8/HP/4xz+ivLy8Dqqq3UsvvRTXX3994ecXXnghxo4dK3gC2EaMGzcupk2bFldffXV07949rrnmmvja174Wy5cvr+vS4DOjrK4LqEsvv/xyHH/88dG+fft45JFHokWLFoVt3/3ud6NHjx5x/PHHx3PPPRft27df7+t88MEHUVVVFWVlZVFWtnmXtLS0NEpLSzdrXzbPLbfcEmVlZXH44YcX2j7++OO45JJLok+fPrWGQ4sWLdrs4y1fvjwaNGgQ//Ef/7HZr5Hbn/70p7j99tvj8ssvj1GjRkVExAknnBB77bVXnHfeefHHP/5xg/tPmTIl5s2bF3/605/iq1/9akRE9OvXL/baa6+YOHFijB8/PiIi3n777Xj77bfj2muvjYiInj17xg477FD0WvXq1YtBgwbFzTffHGPHjt3s21iBz5/DDjss7rjjjvif//mfonH11ltvja5du8bbb79dh9UV+yyFYABsff369Yt99903IiK+/e1vx3bbbReTJk2Ku+66q44rg8+ObXrG0+WXXx7Lly+P6667rih0iojYfvvt46c//Wl88MEH8eMf/7jQXr2O0wsvvBBDhw6NZs2axYEHHli0bW0rVqyIM888M7bffvto1KhRHHHEEfH6669HSUlJjBkzptCvtnUbdt555xgwYEA89thjsd9++0VFRUW0b98+br755qJjvPPOOzFq1Kjo3LlzNGzYMBo3bhz9+vWLZ599dgtdqf87t7/97W/xzW9+M5o0aRItWrSIiy++OFJK8dprrxVmqLRq1SomTpxYtP+qVaviBz/4QXTt2jWaNGkSVVVV0aNHj5g1a1aNYy1ZsiSOP/74aNy4cTRt2jSGDRsWzz77bK3rU7344osxaNCgaN68eVRUVMS+++4bv/71rzfqnGbOnBndunWLhg0bFtrefvvtWLZsWY1b76q1bNkyIj65HbE6WBkxYkRhim11fQcffHDstdde8dRTT8VBBx0UDRo0iAsvvLCwbe01nqpvbfzFL34RF154YbRq1SqqqqriiCOOqHH7WUTE7Nmz49BDD40mTZpEgwYNomfPnjXWqHr//ffjrLPOip133jnKy8ujZcuW0adPn/jLX/6ywWsyffr0KC0tjZEjRxbaKioq4sQTT4wnnnii1nrW3f+rX/1q4dpEROy+++7x9a9/PX75y18W2po3bx4RnwRVCxYsiMsvvzw6depU4/X69OkTr7766hfudkZgw4YMGRJLliwpus131apVMX369Bg6dGiN/j/5yU+ie/fusd1220VlZWV07dq11tvFN3ZMrh7z5s+fH8OHD4+mTZtGkyZNYsSIETW+wV57jacbb7wxjjnmmIiI6NWrV2FseOihhyIiahyntteoNnfu3Ojdu3dUVlbGDjvsEJdeemmsWbOm1ut17733Ro8ePaKqqioaNWoU/fv332aXCwCoa717946IiAULFhTaVq5cGWeffXa0aNEiqqqq4qijjorFixcX7XfXXXdF//79o02bNlFeXh4dOnSISy65JFavXl3Ub968eXH00UdHq1atoqKiInbYYYc49thj47333ivqd8stt0TXrl2jsrIymjdvHscee+ynvpeHXLbp4Onuu++OnXfeOXr06FHr9oMOOih23nnn+M1vflNj2zHHHBPLly+P8ePHx0knnbTeYwwfPjyuuuqqOOyww2LChAlRWVkZ/fv33+ga58+fH4MGDYo+ffrExIkTo1mzZjF8+PCiN5SvvPJKzJw5MwYMGBCTJk2Kc889N55//vno2bNnvPHGGxt9rI3xX//1X7FmzZr40Y9+FN26dYtLL700rrjiiujTp0+0bds2JkyYEB07doxRo0bFI488Uthv2bJl8bOf/SwOPvjgmDBhQowZMyYWL14cffv2LQoV1qxZE4cffnjcdtttMWzYsLjsssvin//8ZwwbNqxGLXPnzo39998//vrXv8b3vve9mDhxYlRVVcXAgQM/9RbJjz76KObMmRNdunQpam/ZsmVUVlbG3XffHe+888569//yl78c48aNi4iIkSNHxrRp02LatGlx0EEHFfosWbIk+vXrF3vvvXdcccUV0atXrw3WdNlll8VvfvObOP/88+PMM8+MBx54IA455JCi2zcffPDBOOigg2LZsmUxevToGD9+fCxdujR69+4df/rTnwr9TjnllLjmmmvi6KOPjilTpsSoUaOisrIy/vrXv26whqeffjp23XXXaNy4cVH7fvvtFxGxwQBozZo18dxzzxW+8Vl3/5dffjnef//9iPhkNtPkyZPj7LPPjvbt28e1114bV199dY39unbtGhGxVRd/B+rezjvvHF/72tfitttuK7Tde++98d5778Wxxx5bo/+VV14Z++yzT4wbNy7Gjx8fZWVlccwxx9QYvzd1TB48eHC8//778cMf/jAGDx4cN954Y4wdO3a9/Q866KA488wzIyLiwgsvLIwNX/7ylzfp/N98883o1atXPPPMM/G9730vzjrrrLj55pvjyiuvrNF32rRp0b9//2jYsGFMmDAhLr744njhhRfiwAMPdLsfQB14+eWXIyJiu+22K7SdccYZ8eyzz8bo0aPjO9/5Ttx9991x+umnF+134403RsOGDePss8+OK6+8Mrp27Ro/+MEP4nvf+16hz6pVq6Jv377x5JNPxhlnnBGTJ0+OkSNHxiuvvBJLly4t9LvsssvihBNOiE6dOsWkSZPirLPOij/84Q9x0EEHFfWDrSZto5YuXZoiIh155JEb7HfEEUekiEjLli1LKaU0evToFBFpyJAhNfpWb6v21FNPpYhIZ511VlG/4cOHp4hIo0ePLrRNnTo1RURasGBBoa1du3YpItIjjzxSaFu0aFEqLy9P55xzTqHtww8/TKtXry46xoIFC1J5eXkaN25cUVtEpKlTp27wnGfNmpUiIt1xxx01zm3kyJGFto8//jjtsMMOqaSkJP3oRz8qtL/77rupsrIyDRs2rKjvypUri47z7rvvpi996UvpW9/6VqHtV7/6VYqIdMUVVxTaVq9enXr37l2j9q9//eupc+fO6cMPPyy0rVmzJnXv3j116tRpg+c4f/78FBHpqquuqrHtBz/4QYqIVFVVlfr165cuu+yy9NRTT9XoN2fOnPVez549e6aISNdee22t23r27Fn4ufp6t23btvDvLKWUfvnLX6aISFdeeWXh3Dp16pT69u2b1qxZU+i3fPnytMsuu6Q+ffoU2po0aZJOO+20DV6D2uy5556pd+/eNdrnzp273vOptnjx4hQRRf/mqk2ePDlFRHrxxRdr7PPkk08Wnfe6/uM//iN95zvf2YSzAD6vqsfCOXPmpKuvvjo1atQoLV++PKWU0jHHHJN69eqVUvpkfOzfv39hv+o+1VatWpX22muvot9nmzImV495a49PKaV01FFHpe22266orV27dkXj3R133JEiIs2aNavG+a17nPW9xllnnZUiIs2ePbvQtmjRotSkSZOi9wrvv/9+atq0aTrppJOKXu/NN99MTZo0qdEOwJZTPWb9/ve/T4sXL06vvfZauv3229N2222XKisr0z/+8Y9Cn0MOOaTo/fv/+3//L5WWlqalS5cW2tYdy1JK6eSTT04NGjQofN55+umna3xOW9fChQtTaWlpuuyyy4ran3/++VRWVlajHbaGbXbGU/XMi0aNGm2wX/X2ZcuWFbWvuyB1baqfgHbqqacWtZ9xxhkbXecee+xRNCOrRYsWsdtuuxU9Jay8vDzq1fvkr3L16tWxZMmSaNiwYey2226femvVpvr2t79d+HNpaWnsu+++kVKKE088sdDetGnTGjWWlpYW1jZas2ZNvPPOO/Hxxx/HvvvuW1Tj7373u6hfv37RLLJ69erFaaedVlTHO++8Ew8++GDh2+jqNYOWLFkSffv2jXnz5sXrr7++3vOoXui6WbNmNbaNHTs2br311thnn33ivvvui+9///vRtWvX6NKly6fOGFpbeXl5jBgxYqP7n3DCCUX/HgcNGhStW7eO3/72txHxyWyjefPmxdChQ2PJkiWFc/7ggw/i61//ejzyyCOF2zCaNm0as2fP3uQZbytWrKh1vZKKiorC9g3tG1H7eifr23/77bePbt26bfD/YbNmzT5T67kAW8fgwYNjxYoVcc8998T7778f99xzT6232UVEVFZWFv787rvvxnvvvRc9evSoMb5EbNqYvO5Y36NHj1iyZEmN9wRb2m9/+9vYf//9C7NNIz4Z/4877riifg888EAsXbo0hgwZUhgT3n777SgtLY1u3brVejs7AFvWIYccEi1atIgdd9wxjj322GjYsGHceeed0bZt20KfkSNHFi3J0qNHj1i9enW8+uqrhba1x7Lqzzc9evSI5cuXx4svvhgREU2aNImIiPvuu2+9i5fPmDEj1qxZE4MHDy4aG1q1ahWdOnUyNlAnttnFxas/6FYHUOuzvoBql112+dRjvPrqq1GvXr0afTt27LjRde6000412po1axbvvvtu4ec1a9bElVdeWVgvZ+37gNee4rklrFtPkyZNoqKiIrbffvsa7es+xeymm26KiRMnxosvvhgfffRRoX3t6/Pqq69G69ato0GDBkX7rnvN5s+fHymluPjii+Piiy+utdZFixYV/cKvTUqp1vYhQ4bEkCFDYtmyZTF79uy48cYb49Zbb43DDz88/vd//7cQpGxI27ZtN2kh8XXXOCopKYmOHTsWbpWYN29eRESttx1We++996JZs2bx4x//OIYNGxY77rhjdO3aNQ477LA44YQTNrhIfsQnA97KlStrtH/44YeF7RvaNyI2e//1SSlZWBy2QS1atIhDDjkkbr311li+fHmsXr06Bg0aVGvfe+65Jy699NJ45plnin4Hrf27Y3PG5HXHvOovK959990atyRvSa+++mp069atRvtuu+1W9HP1uFC9nsi6ctYIwCcmT54cu+66a5SVlcWXvvSl2G233QqTAqptaDypNnfu3LjoooviwQcfrPEFR/X6TbvsskucffbZMWnSpPj5z38ePXr0iCOOOKKwBm/EJ2NDSqnW9VMjIurXr//vnTBshm02eGrSpEm0bt06nnvuuQ32e+6556Jt27Y13rxtzgfozbG+J92tHZiMHz8+Lr744vjWt74Vl1xySTRv3jzq1asXZ5111noXIt2S9WxMjbfccksMHz48Bg4cGOeee260bNkySktL44c//GHhPuhNUX1eo0aNir59+9baZ0MfJqoDubV/2demcePG0adPn+jTp0/Ur18/brrpppg9e3b07NnzU2vc0v9Gqs/58ssvj7333rvWPtULpQ8ePDh69OgRd955Z9x///1x+eWXx4QJE2LGjBnRr1+/9R6jdevWtc4U++c//xkREW3atFnvvs2bN4/y8vJC303df32WLl1aI9gEtg1Dhw6Nk046Kd58883o169fNG3atEafRx99NI444og46KCDYsqUKdG6deuoX79+TJ06NW699dZ/6/gbM75tCesuHLuxqseFadOmRatWrWps39wn7QKw8fbbb79a1zhd26eNJ0uXLo2ePXtG48aNY9y4cdGhQ4eoqKiIv/zlL3H++ecXfaabOHFiDB8+PO666664//7748wzz4wf/vCH8eSTT8YOO+wQa9asiZKSkrj33ntrPe7aD1aCrWWbfkcyYMCAuP766+Oxxx4rPJlubY8++mgsXLgwTj755M16/Xbt2sWaNWtiwYIFRYnz/PnzN7vm2kyfPj169eoVN9xwQ1H7Z+kD+/Tp06N9+/YxY8aMom+gR48eXdSvXbt2MWvWrFi+fHnRrKd1r1n1zJ369evHIYccssn17LTTTlFZWVn0tIlPs++++8ZNN91UCFG29Cyc6m+uq6WUYv78+fGf//mfERHRoUOHiPgkDNuYc27dunWceuqpceqpp8aiRYuiS5cucdlll20weNp7771j1qxZsWzZsqKwdfbs2YXt61OvXr3o3Llz/PnPf66xbfbs2dG+fftPvbV1Xa+//nqsWrVqkxfmBb4YjjrqqDj55JPjySefjF/84he19vnVr34VFRUVcd999xXd6jt16tSifltrTN7Q2NCsWbMai7quWrWqRmDfrl27GmNCRMRLL71U9HP1uNCyZcvNGgsB+Gx46KGHYsmSJTFjxoyihxWt77NK586do3PnznHRRRfFH//4xzjggAPi2muvjUsvvTQ6dOgQKaXYZZddYtddd91apwAbtM2u8RQRce6550ZlZWWcfPLJNW4Le+edd+KUU06JBg0axLnnnrtZr189E2fKlClF7VddddXmFbwepaWlNb59veOOOza4xtHWVp22r13n7Nmz44knnijq17dv3/joo4/i+uuvL7StWbMmJk+eXNSvZcuWcfDBB8dPf/rTWmfYrPt40nXVr18/9t133xohyfLly2vUVO3ee++NiP+71aGqqioiYos9GeLmm28uuvVz+vTp8c9//rMQFHXt2jU6dOgQP/nJT+Jf//pXjf2rz3n16tU1HqfasmXLaNOmTa23wa1t0KBBsXr16rjuuusKbStXroypU6dGt27dYscddyy0//3vfy/cb772/nPmzCm6ri+99FI8+OCDhUeMb4qnnnoqIiK6d+++yfsCn38NGzaMa665JsaMGROHH354rX1KS0ujpKSkaNbQwoULY+bMmUX9ttaYvKGxoUOHDkVPfI2IuO6662rMeDrssMPiySefLHpa6eLFi+PnP/95Ub++fftG48aNY/z48UW3sK+9DwCffbV9Vlq1alWNMWvZsmXx8ccfF7V17tw56tWrV3if/41vfCNKS0tj7NixNT4jppRqfO6FrWGbnvHUqVOnuOmmm+K4446Lzp07x4knnhi77LJLLFy4MG644YZ4++2347bbbit8o7ipunbtGkcffXRcccUVsWTJkth///3j4Ycfjr/97W8RseVmzAwYMCDGjRsXI0aMiO7du8fzzz8fP//5zz91PZ+tacCAATFjxow46qijon///rFgwYK49tprY4899igKUQYOHBj77bdfnHPOOTF//vzYfffd49e//nW88847EVF8zSZPnhwHHnhgdO7cOU466aRo3759vPXWW/HEE0/EP/7xj3j22Wc3WNORRx4Z3//+94tm9yxfvjy6d+8e+++/fxx66KGx4447xtKlS2PmzJnx6KOPxsCBA2OfffaJiE8+QDRt2jSuvfbaaNSoUVRVVUW3bt02av2v2jRv3jwOPPDAGDFiRLz11ltxxRVXRMeOHQsLrderVy9+9rOfRb9+/WLPPfeMESNGRNu2beP111+PWbNmRePGjePuu++O999/P3bYYYcYNGhQfOUrX4mGDRvG73//+5gzZ05MnDhxgzV069YtjjnmmLjgggti0aJF0bFjx7jpppsK/yfWdsIJJ8TDDz9cNKCdeuqpcf3110f//v1j1KhRUb9+/Zg0aVJ86UtfinPOOWeTr8kDDzwQO+20U+GaA9ueDa1rFxHRv3//mDRpUhx66KExdOjQWLRoUUyePDk6duxYdDv91hqT99577ygtLY0JEybEe++9F+Xl5dG7d+9o2bJlfPvb345TTjkljj766OjTp088++yzcd9999WYnXzeeefFtGnT4tBDD43vfve7UVVVFdddd120a9eu6JwaN24c11xzTRx//PHRpUuXOPbYY6NFixbx97//PX7zm9/EAQccEFdfffUWOS8A8unevXs0a9Yshg0bFmeeeWaUlJTEtGnTagRHDz74YJx++ulxzDHHxK677hoff/xxTJs2LUpLS+Poo4+OiE8+o1x66aVxwQUXxMKFC2PgwIHRqFGjWLBgQdx5550xcuTIGDVqVF2cJtuyrf0Yvc+i5557Lg0ZMiS1bt061a9fP7Vq1SoNGTIkPf/88zX6Vj9iefHixevdtrYPPvggnXbaaal58+apYcOGaeDAgemll15KEZF+9KMfFfpVP2qz+hHJKdV8XHS1nj17pp49exZ+/vDDD9M555yTWrdunSorK9MBBxyQnnjiiRr9FixYkCIiTZ06dYPXY9asWTUe07m+8x42bFiqqqqqtcY999yz8POaNWvS+PHjU7t27VJ5eXnaZ5990j333JOGDRuW2rVrV7Tv4sWL09ChQ1OjRo1SkyZN0vDhw9Pjjz+eIiLdfvvtRX1ffvnldMIJJ6RWrVql+vXrp7Zt26YBAwak6dOnb/AcU0rprbfeSmVlZWnatGmFto8++ihdf/31aeDAgYVaGzRokPbZZ590+eWXp5UrVxa9xl133ZX22GOPVFZWVnRt1z3/da/N2n8v1df7tttuSxdccEFq2bJlqqysTP3790+vvvpqjf2ffvrp9I1vfCNtt912qby8PLVr1y4NHjw4/eEPf0gppbRy5cp07rnnpq985SupUaNGqaqqKn3lK19JU6ZM+dRrklJKK1asSKNGjUqtWrVK5eXl6atf/Wr63e9+V+t51PYr5LXXXkuDBg1KjRs3Tg0bNkwDBgxI8+bN26hjr2316tWpdevW6aKLLtrkfYHPp+qxcM6cORvst+74eMMNN6ROnTql8vLytPvuu6epU6f+W2Py+sa89Y3Vw4YNK+p3/fXXp/bt26fS0tIUEWnWrFkppU9+r51//vlp++23Tw0aNEh9+/ZN8+fPr/U1nnvuudSzZ89UUVGR2rZtmy655JJ0ww031Dh+Sp+MI3379k1NmjRJFRUVqUOHDmn48OHpz3/+8wavIwCbb2PGrPX1qX7/Xz0+pJTS448/nvbff/9UWVmZ2rRpk84777x03333FfV75ZVX0re+9a3UoUOHVFFRkZo3b5569eqVfv/739c49q9+9at04IEHpqqqqlRVVZV23333dNppp6WXXnppi5w/bIqSlLbwCpl8qmeeeSb22WefuOWWW2o8GpnazZw5M4466qh47LHH4oADDthir3viiSfG3/72t3j00Ue32Gtuqoceeih69eoVd9xxx3qf2LQtmjlzZgwdOjRefvnlaN26dV2XA3xBGZMBAPLaptd42hpWrFhRo+2KK66IevXqFS0cx/9Z95qtXr06rrrqqmjcuHF06dJlix5r9OjRMWfOnHj88ce36Ovy75swYUKcfvrpQidgizEmAwBsfdv0Gk9bw49//ON46qmnolevXlFWVhb33ntv3HvvvTFy5MiihZr5P2eccUasWLEivva1r8XKlStjxowZ8cc//jHGjx8flZWVW/RYO+20U3z44Ydb9DXZMta3yDvA5jImAwBsfYKnzLp37x4PPPBAXHLJJfGvf/0rdtpppxgzZkx8//vfr+vSPrN69+4dEydOjHvuuSc+/PDD6NixY1x11VVx+umn13VpAHyOGZMBALY+azwBAAAAkIU1ngAAAADIQvAEAAAAQBaCJwAAAACysLg4AJ8JJSUldV0CwBeKpVxrGjt2bF2XAPCFMnr06E/tY8YTAAAAAFkIngAAAADIQvAEAAAAQBaCJwAAAACyEDwBAAAAkIXgCQAAAIAsBE8AAAAAZCF4AgAAACALwRMAAAAAWQieAAAAAMhC8AQAAABAFoInAAAAALIQPAEAAACQheAJAAAAgCwETwAAAABkIXgCAAAAIAvBEwAAAABZCJ4AAAAAyELwBAAAAEAWgicAAAAAsijb2I4lJSU56wDY5qSU6roEAACArMx4AgAAACALwRMAAAAAWQieAAAAAMhC8AQAAABAFoInAAAAALIQPAEAAACQheAJAAAAgCwETwAAAABkIXgCAAAAIAvBEwAAAABZCJ4AAAAAyELwBAAAAEAWgicAAAAAshA8AQAAAJCF4AkAAACALARPAAAAAGQheAIAAAAgC8ETAAAAAFkIngAAAADIQvAEAAAAQBaCJwAAAACyKNvYjimlnHUAAHwuvPHGGzXa2rRpUweVAPBFtccee9Roe+GFF+qgEvj3mfEEAAAAQBaCJwAAAACyEDwBAAAAkIXgCQAAAIAsNnpxcQAALCQOQH4WEueLxIwnAAAAALIQPAEAAACQheAJAAAAgCwETwAAAABkIXgCAAAAIAvBEwAAAABZCJ4AAAAAyELwBAAAAEAWgicAAAAAshA8AQAAAJCF4AkAAACALARPAAAAAGQheAIAAAAgC8ETAAAAAFkIngAAAADIomxjO5aUlOSsA2Cbk1Kq6xIAAACyMuMJAAAAgCwETwAAAABkIXgCAAAAIAvBEwAAAABZCJ4AAAAAyELwBAAAAEAWgicAAAAAshA8AQAAAJCF4AkAAACALARPAAAAAGQheAIAAAAgC8ETAAAAAFkIngAAAADIQvAEAAAAQBaCJwAAAACyEDwBAAAAkIXgCQAAAIAsBE8AAAAAZCF4AgAAACALwRMAAAAAWZRtbMeUUs46AAAAAPiCMeMJAAAAgCwETwAAAABkIXgCAAAAIAvBEwAAAABZCJ4AAAAAyELwBAAAAEAWgicAAAAAshA8AQAAAJCF4AkAAACALARPAAAAAGQheAIAAAAgC8ETAAAAAFkIngAAAADIQvAEAAAAQBaCJwAAAACyEDwBAAAAkIXgCQAAAIAsBE8AAAAAZCF4AgAAACALwRMAAAAAWQieAAAAAMiibGM7lpSU5KwDYJuTUqrrEgAAALIy4wkAAACALARPAAAAAGQheAIAAAAgC8ETAAAAAFkIngAAAADIQvAEAAAAQBaCJwAAAACyEDwBAAAAkIXgCQAAAIAsBE8AAAAAZCF4AgAAACALwRMAAAAAWQieAAAAAMhC8AQAAABAFoInAAAAALIQPAEAAACQheAJAAAAgCwETwAAAABkIXgCAAAAIAvBEwAAAABZlG1sx5RSzjoAAD4XVqxYUaOtsrKyDioB4Itq9OjRNdrGjh1bB5XAv8+MJwAAAACyEDwBAAAAkIXgCQAAAIAsBE8AAAAAZCF4AgAAACCLjX6qHQAAnmAHQH6eYMcXiRlPAAAAAGQheAIAAAAgC8ETAAAAAFkIngAAAADIQvAEAAAAQBaCJwAAAACyEDwBAAAAkIXgCQAAAIAsBE8AAAAAZCF4AgAAACALwRMAAAAAWQieAAAAAMhC8AQAAABAFoInAAAAALIQPAEAAACQRdnGdiwpKclZB8A2J6VU1yUAAABkZcYTAAAAAFkIngAAAADIQvAEAAAAQBaCJwAAAACyEDwBAAAAkIXgCQAAAIAsBE8AAAAAZCF4AgAAACALwRMAAAAAWQieAAAAAMhC8AQAAABAFoInAAAAALIQPAEAAACQheAJAAAAgCwETwAAAABkIXgCAAAAIAvBEwAAAABZCJ4AAAAAyELwBAAAAEAWgicAAAAAsijb2I4ppZx1AAB8LtT2nqikpKQOKgEA+Owz4wkAAACALARPAAAAAGQheAIAAAAgC8ETAAAAAFls9OLiAABYSBwAYFOY8QQAAABAFoInAAAAALIQPAEAAACQheAJAAAAgCwETwAAAABkIXgCAAAAIAvBEwAAAABZCJ4AAAAAyELwBAAAAEAWgicAAAAAshA8AQAAAJCF4AkAAACALARPAAAAAGQheAIAAAAgC8ETAAAAAFmUbWzHkpKSnHUAbHNSSnVdAgAAQFZmPAEAAACQheAJAAAAgCwETwAAAABkIXgCAAAAIAvBEwAAAABZCJ4AAAAAyELwBAAAAEAWgicAAAAAshA8AQAAAJCF4AkAAACALARPAAAAAGQheAIAAAAgC8ETAAAAAFkIngAAAADIQvAEAAAAQBaCJwAAAACyEDwBAAAAkIXgCQAAAIAsBE8AAAAAZCF4AgAAACALwRMAAAAAWZRtbMeUUs46AAA+F1asWFGjrbKysg4qAeCLasyYMRvVBp8HZjwBAAAAkIXgCQAAAIAsBE8AAAAAZCF4AgAAACCLjV5cHAAAC4kDkJ+FxPkiMeMJAAAAgCwETwAAAABkIXgCAAAAIAvBEwAAAABZCJ4AAAAAyELwBAAAAEAWgicAAAAAshA8AQAAAJCF4AkAAACALARPAAAAAGQheAIAAAAgC8ETAAAAAFkIngAAAADIQvAEAAAAQBaCJwAAAACyKNvYjiUlJTnrANjmpJTqugQAAICszHgCAAAAIAvBEwAAAABZCJ4AAAAAyELwBAAAAEAWgicAAAAAshA8AQAAAJCF4AkAAACALARPAAAAAGQheAIAAAAgC8ETAAAAAFkIngAAAADIQvAEAAAAQBaCJwAAAACyEDwBAAAAkIXgCQAAAIAsBE8AAAAAZCF4AgAAACALwRMAAAAAWQieAAAAAMhC8AQAAABAFmUb2zGllLMOAAAAAL5gzHgCAAAAIAvBEwAAAABZCJ4AAAAAyELwBAAAAEAWgicAAAAAshA8AQAAAJCF4AkAAACALARPAAAAAGQheAIAAAAgC8ETAAAAAFkIngAAAADIQvAEAAAAQBaCJwAAAACyEDwBAAAAkIXgCQAAAIAsBE8AAAAAZCF4AgAAACALwRMAAAAAWQieAAAAAMhC8AQAAABAFoInAAAAALIo29iOJSUlOesA2OaklOq6BAAAgKzMeAIAAAAgC8ETAAAAAFkIngAAAADIQvAEAAAAQBaCJwAAAACyEDwBAAAAkIXgCQAAAIAsBE8AAAAAZCF4AgAAACALwRMAAAAAWQieAAAAAMhC8AQAAABAFoInAAAAALIQPAEAAACQheAJAAAAgCwETwAAAABkIXgCAAAAIAvBEwAAAABZCJ4AAAAAyELwBAAAAEAWZRvbMaWUsw4AgM+FN954o0ZbmzZt6qASAL6o5s6dW6Ntzz33rINK4N9nxhMAAAAAWQieAAAAAMhC8AQAAABAFoInAAAAALIQPAEAAACQxUY/1Q4AAE+wAyA/T7Dji8SMJwAAAACyEDwBAAAAkIXgCQAAAIAsBE8AAAAAZCF4AgAAACALwRMAAAAAWQieAAAAAMhC8AQAAABAFoInAAAAALIQPAEAAACQheAJAAAAgCwETwAAAABkIXgCAAAAIAvBEwAAAABZCJ4AAAAAyKJsYzuWlJTkrANgm5NSqusSAAAAsjLjCQAAAIAsBE8AAAAAZCF4AgAAACALwRMAAAAAWQieAAAAAMhC8AQAAABAFoInAAAAALIQPAEAAACQheAJAAAAgCwETwAAAABkIXgCAAAAIAvBEwAAAABZCJ4AAAAAyELwBAAAAEAWgicAAAAAshA8AQAAAJCF4AkAAACALARPAAAAAGQheAIAAAAgC8ETAAAAAFmUpJRSXRcBAAAAwBePGU8AAAAAZCF4AgAAACALwRMAAAAAWQieAAAAAMhC8AQAAABAFoInAAAAALIQPAEAAACQheAJAAAAgCwETwAAAABk8f8BRLPV/VwGW/kAAAAASUVORK5CYII=\n",
          "text/plain": "<Figure size 1500x500 with 3 Axes>"
         },
         "metadata": {},
         "output_type": "display_data"
        }
       ]
      }
     },
     "8c9c282660454e0384294d081157ac87": {
      "model_module": "@jupyter-widgets/controls",
      "model_module_version": "2.0.0",
      "model_name": "SliderStyleModel",
      "state": {
       "description_width": ""
      }
     },
     "965f7f3057e043038006bec62adec050": {
      "model_module": "@jupyter-widgets/output",
      "model_module_version": "1.0.0",
      "model_name": "OutputModel",
      "state": {
       "layout": "IPY_MODEL_71b7806425344e58b59a146fd1a846c6",
       "outputs": [
        {
         "data": {
          "image/png": "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\n",
          "text/plain": "<Figure size 1500x500 with 3 Axes>"
         },
         "metadata": {},
         "output_type": "display_data"
        }
       ]
      }
     },
     "974e9346e16e493fafaed2e2bbbbbb71": {
      "model_module": "@jupyter-widgets/base",
      "model_module_version": "2.0.0",
      "model_name": "LayoutModel",
      "state": {}
     },
     "b22857668f7e41b7b02b298bad91f196": {
      "model_module": "@jupyter-widgets/controls",
      "model_module_version": "2.0.0",
      "model_name": "SliderStyleModel",
      "state": {
       "description_width": ""
      }
     },
     "be37289141f7454e9ebd2268960ffb7c": {
      "model_module": "@jupyter-widgets/controls",
      "model_module_version": "2.0.0",
      "model_name": "FloatSliderModel",
      "state": {
       "behavior": "drag-tap",
       "description": "Minor Axis:",
       "layout": "IPY_MODEL_21e96e2ef553408c90faf314e266d85c",
       "max": 20,
       "min": 1,
       "style": "IPY_MODEL_83f7d153266b4adca22d0c0e5aede35c",
       "value": 5
      }
     },
     "d08448ec219443409411c4613e8855ab": {
      "model_module": "@jupyter-widgets/base",
      "model_module_version": "2.0.0",
      "model_name": "LayoutModel",
      "state": {}
     },
     "d2acaa5d30e14e909b13856ce9b23e92": {
      "model_module": "@jupyter-widgets/controls",
      "model_module_version": "2.0.0",
      "model_name": "FloatSliderModel",
      "state": {
       "behavior": "drag-tap",
       "description": "Angle (°):",
       "layout": "IPY_MODEL_8623525e16964843864dac8f70d86cb1",
       "max": 90,
       "style": "IPY_MODEL_b22857668f7e41b7b02b298bad91f196"
      }
     },
     "ddf6054cb2ac463fa627cfd9c97155cf": {
      "model_module": "@jupyter-widgets/controls",
      "model_module_version": "2.0.0",
      "model_name": "VBoxModel",
      "state": {
       "_dom_classes": [
        "widget-interact"
       ],
       "children": [
        "IPY_MODEL_e21239cc131f4f7cb219e264005605ba",
        "IPY_MODEL_3943e3ec06b740a08375599f5dc968c2"
       ],
       "layout": "IPY_MODEL_ee4b60673cec4d1c893dde455f0feb3d"
      }
     },
     "e21239cc131f4f7cb219e264005605ba": {
      "model_module": "@jupyter-widgets/controls",
      "model_module_version": "2.0.0",
      "model_name": "FloatSliderModel",
      "state": {
       "behavior": "drag-tap",
       "description": "Angle (°):",
       "layout": "IPY_MODEL_704df47552e74ea9aa5869e1a09452a8",
       "max": 90,
       "style": "IPY_MODEL_8c9c282660454e0384294d081157ac87"
      }
     },
     "ee4b60673cec4d1c893dde455f0feb3d": {
      "model_module": "@jupyter-widgets/base",
      "model_module_version": "2.0.0",
      "model_name": "LayoutModel",
      "state": {}
     },
     "f20442a9f4a24ab3b40ece2b11693f55": {
      "model_module": "@jupyter-widgets/base",
      "model_module_version": "2.0.0",
      "model_name": "LayoutModel",
      "state": {
       "height": "400px"
      }
     }
    },
    "version_major": 2,
    "version_minor": 0
   }
  }
 },
 "nbformat": 4,
 "nbformat_minor": 5
}
