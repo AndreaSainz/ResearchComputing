{
 "cells": [
  {
   "cell_type": "markdown",
   "metadata": {},
   "source": [
    "# Distributing your package\n",
    "\n",
    "To illustrate the process we continue using the `company_package` that we developed in \n",
    "[part 4](../part4/notebook.html#Working-example).\n",
    "\n",
    "\n",
    "In principle, the code of your package should be developed with `git` and uploaded on GitHub \n",
    "(or GitLab, or Bitbucket, etc.).\n",
    "\n",
    "If you want to keep your code private you can of course do so, while developing it and sharing it with your chosen colleagues by inviting them to your private repository.\n",
    "\n",
    "\n",
    "Here, we will assume your are ready to share your code with the world and \n",
    "that you want it to be usable by users on Mac OS, Linux, and Windows machines. \n",
    "\n",
    "## Building the package\n",
    "\n",
    "\n",
    "When we used \n",
    "\n",
    "```bash\n",
    "pip install -e .\n",
    "```\n",
    "inside our `company_package` folder, we created a sub-folder called `company.egg-info`, which contains metadata about the package.\n",
    "\n",
    "<div class=\"exercise-box\">\n",
    "**Exercise:** Look inside the `company.egg-info` folder and check-out the content of the files there. \n",
    "</div>\n",
    "\n",
    "More importantly, we also automatically created a new folder called `dist-info` inside our environment site-packages folder, which contains the same sort of information.\n",
    "\n",
    "This folder will typically be at \n",
    "\n",
    "```bash\n",
    "<venvdir>/<name-of-env>/lib/python3.X/site-packages/company-<version>.dist-info\n",
    "```\n",
    "\n",
    "<div class=\"exercise-box\">\n",
    "**Exercise:** Look inside the `dist-info` folder of your site-packages folder and check-out the content of the files there. \n",
    "</div>\n",
    "\n",
    "One of the files is `direct_url.json`. In our case it shows:\n",
    "\n",
    "```json\n",
    "{\"dir_info\": {\"editable\": true}, \"url\": \"file:///path/to/company_package\"}\n",
    "```\n",
    "\n",
    "which means we have installed the package in editable mode and the location of the source code is given by the `url` field.\n",
    "\n",
    "\n"
   ]
  }
 ],
 "metadata": {
  "language_info": {
   "name": "python"
  }
 },
 "nbformat": 4,
 "nbformat_minor": 2
}
