{
 "cells": [
  {
   "cell_type": "markdown",
   "metadata": {
    "id": "VVYeubPuDFyi"
   },
   "source": [
    "# Getting started\n",
    "\n",
    "In this lecture, we introduce the material and tools we will use throughout the course."
   ]
  },
  {
   "cell_type": "markdown",
   "metadata": {},
   "source": [
    "## Operating Systems \n",
    "\n",
    "Operating systems are referred to as OS. \n",
    "\n"
   ]
  },
  {
   "cell_type": "markdown",
   "metadata": {},
   "source": [
    "\n",
    "\n",
    "\n",
    "\n",
    "\n",
    "\n",
    "\n",
    "\n"
   ]
  }
 ],
 "metadata": {
  "colab": {
   "authorship_tag": "ABX9TyMxA3MikQu6HqzjYlVwK9lQ",
   "mount_file_id": "1ReIH5du5mFG-773sn9dNEA04qoevEq5O",
   "provenance": [],
   "toc_visible": true
  },
  "kernelspec": {
   "display_name": "Python 3 (ipykernel)",
   "language": "python",
   "name": "python3"
  },
  "language_info": {
   "codemirror_mode": {
    "name": "ipython",
    "version": 3
   },
   "file_extension": ".py",
   "mimetype": "text/x-python",
   "name": "python",
   "nbconvert_exporter": "python",
   "pygments_lexer": "ipython3",
   "version": "3.9.13"
  }
 },
 "nbformat": 4,
 "nbformat_minor": 4
}
