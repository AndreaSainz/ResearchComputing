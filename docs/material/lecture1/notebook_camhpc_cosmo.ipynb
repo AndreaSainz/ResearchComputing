{
 "cells": [
  {
   "cell_type": "markdown",
   "metadata": {
    "id": "VVYeubPuDFyi"
   },
   "source": [
    "# Setting-up cosmology packages in Cambridge\n"
   ]
  },
  {
   "cell_type": "markdown",
   "metadata": {},
   "source": [
    "## cobaya\n",
    "\n",
    "### installing cobaya\n",
    "\n",
    "See [here](https://cobaya.readthedocs.io/en/latest/installation.html).\n",
    "\n",
    "In particular we need: \n",
    "\n",
    "```bash\n",
    "python -m pip install \"mpi4py>=3\" --upgrade --no-binary :all:\n",
    "```\n",
    "\n",
    "To test the installation, run: \n",
    "\n",
    "```bash\n",
    "mpirun -n 2 python -c \"from mpi4py import MPI, __version__; print(__version__ if MPI.COMM_WORLD.Get_rank() else '')\"\n",
    "```\n",
    "\n",
    "For default external likelihoods to be installed in a specific location\n",
    "we define the following environment variables: \n",
    "\n",
    "```bash\n",
    "export COBAYA_PACKAGES_PATH=$HOME/cobaya_packages\n",
    "mkdir -p $COBAYA_PACKAGES_PATH\n",
    "```\n",
    "\n",
    "### installing bao likelihood\n",
    "\n",
    "To install bao likelihoods, do:\n",
    "\n",
    "```bash\n",
    "cd $COBAYA_PACKAGES_PATH\n",
    "git clone https://github.com/CobayaSampler/bao_data.git\n",
    "```\n",
    "\n",
    "\n"
   ]
  }
 ],
 "metadata": {
  "colab": {
   "authorship_tag": "ABX9TyMxA3MikQu6HqzjYlVwK9lQ",
   "mount_file_id": "1ReIH5du5mFG-773sn9dNEA04qoevEq5O",
   "provenance": [],
   "toc_visible": true
  },
  "kernelspec": {
   "display_name": "Python 3 (ipykernel)",
   "language": "python",
   "name": "python3"
  },
  "language_info": {
   "codemirror_mode": {
    "name": "ipython",
    "version": 3
   },
   "file_extension": ".py",
   "mimetype": "text/x-python",
   "name": "python",
   "nbconvert_exporter": "python",
   "pygments_lexer": "ipython3",
   "version": "3.9.13"
  }
 },
 "nbformat": 4,
 "nbformat_minor": 4
}
