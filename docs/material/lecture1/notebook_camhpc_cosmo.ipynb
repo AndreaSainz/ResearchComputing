{
 "cells": [
  {
   "cell_type": "markdown",
   "metadata": {
    "id": "VVYeubPuDFyi"
   },
   "source": [
    "# Setting-up cosmology packages in Cambridge\n"
   ]
  },
  {
   "cell_type": "markdown",
   "metadata": {},
   "source": [
    "## cobaya\n",
    "\n",
    "### installing cobaya\n",
    "\n",
    "See [here](https://cobaya.readthedocs.io/en/latest/installation.html).\n",
    "\n",
    "In particular we need to run with mpi:\n",
    "\n",
    "On icelake, we load the modules: \n",
    "\n",
    "```bash\n",
    "module load rhel8/default-icl\n",
    "module load openmpi/4.1.5/intel/b42idtrx\n",
    "```\n",
    "\n",
    "Then we install mpi4py:\n",
    "\n",
    "```bash\n",
    "python -m pip install \"mpi4py>=3\" --upgrade --no-binary :all:\n",
    "```\n",
    "\n",
    "To test the installation, run: \n",
    "\n",
    "```bash\n",
    "mpirun -n 2 python -c \"from mpi4py import MPI, __version__; print(__version__ if MPI.COMM_WORLD.Get_rank() else '')\"\n",
    "```\n",
    "\n",
    "For default external likelihoods to be installed in a specific location\n",
    "we define the following environment variables: \n",
    "\n",
    "```bash\n",
    "export COBAYA_PACKAGES_PATH=$HOME/cobaya_packages\n",
    "mkdir -p $COBAYA_PACKAGES_PATH\n",
    "```\n",
    "\n",
    "### installing bao likelihood\n",
    "\n",
    "To install bao likelihoods, do:\n",
    "\n",
    "```bash\n",
    "cd $COBAYA_PACKAGES_PATH\n",
    "git clone https://github.com/CobayaSampler/bao_data.git\n",
    "```\n",
    "\n",
    "If some likelihoods are still not found, try, e.g.,:\n",
    "\n",
    "```bash\n",
    "cobaya-install bao.sdss_dr7_mgs -p $COBAYA_PACKAGES_PATH\n",
    "```\n",
    "(here for sdss_dr7_mgs).\n",
    "\n",
    "\n"
   ]
  },
  {
   "cell_type": "markdown",
   "metadata": {},
   "source": [
    "### Evaluating a likelihood\n",
    "\n",
    "```bash\n",
    "cobaya-run test_binned_classy_sz_evaluate_alice25sept24.yaml -f\n",
    "```\n",
    "\n"
   ]
  },
  {
   "cell_type": "markdown",
   "metadata": {},
   "source": [
    "## MFlike for CMB power spectra analysis\n",
    "\n",
    "\n",
    "\n"
   ]
  },
  {
   "cell_type": "markdown",
   "metadata": {},
   "source": [
    "```bash\n",
    "ssh bb667@login-icelake.hpc.cam.ac.uk\n",
    "module load rhel8/default-icl\n",
    "module load openmpi/4.1.5/intel/b42idtrx\n",
    "cd $RDS_BB667\n",
    "module load miniconda/3\n",
    "# Assuming envdir is a directory that already exists\n",
    "# if not, mkdir envdir\n",
    "python3.11 -m venv envdir/base_311env_actdr6\n",
    "source envdir/base_311env_actdr6/bin/activate\n",
    "pip install jupyter\n",
    "pip install cython\n",
    "pip install wheel\n",
    "python -m ipykernel install --user --name=base_311env_actdr6  --display-name \"base_311env_actdr6\"\n",
    "python -m pip install \"mpi4py>=3\" --upgrade --no-binary :all:\n",
    "mpirun -n 2 python -c \"from mpi4py import MPI, __version__; print(__version__ if MPI.COMM_WORLD.Get_rank() else '')\" # should print version number\n",
    "mkdir ps_analysis_act_dr6\n",
    "cd ps_analysis_act_dr6\n",
    "git clone https://github.com/ACTCollaboration/act_dr6_mflike\n",
    "cd act_dr6_mflike/\n",
    "pip install -e .\n",
    "cd ..\n",
    "git clone https://github.com/kmsurrao/BoltzmannBenchmarks.git\n",
    "cd BoltzmannBenchmarks/codes\n",
    "cd class_v3_nonlinear\n",
    "make clean\n",
    "make -j\n",
    "cd ..\n",
    "cd cd codes/class_v3_nonlinear_ede/class\n",
    "make clean\n",
    "cd ../..\n",
    "cd codes/HYREC-2/\n",
    "gcc -lm -O3 hyrectools.c helium.c hydrogen.c history.c energy_injection.c hyrec.c -o hyrec\n",
    "cd ../CAMB/forutils/\n",
    "make all\n",
    "cd  ..\n",
    "python setup.py make\n",
    "```"
   ]
  },
  {
   "cell_type": "markdown",
   "metadata": {},
   "source": []
  },
  {
   "cell_type": "markdown",
   "metadata": {},
   "source": []
  },
  {
   "cell_type": "markdown",
   "metadata": {},
   "source": []
  },
  {
   "cell_type": "markdown",
   "metadata": {},
   "source": [
    "## Cluster cosmology analysis"
   ]
  },
  {
   "cell_type": "markdown",
   "metadata": {},
   "source": [
    "Same as above but in a different environment:\n",
    "```bash\n",
    "base_311env_actdr6_cluster_cosmology\n",
    "pip install pyccl\n",
    "```"
   ]
  },
  {
   "cell_type": "code",
   "execution_count": null,
   "metadata": {
    "vscode": {
     "languageId": "plaintext"
    }
   },
   "outputs": [],
   "source": []
  },
  {
   "cell_type": "code",
   "execution_count": null,
   "metadata": {
    "vscode": {
     "languageId": "plaintext"
    }
   },
   "outputs": [],
   "source": []
  }
 ],
 "metadata": {
  "colab": {
   "authorship_tag": "ABX9TyMxA3MikQu6HqzjYlVwK9lQ",
   "mount_file_id": "1ReIH5du5mFG-773sn9dNEA04qoevEq5O",
   "provenance": [],
   "toc_visible": true
  },
  "kernelspec": {
   "display_name": "Python 3 (ipykernel)",
   "language": "python",
   "name": "python3"
  },
  "language_info": {
   "codemirror_mode": {
    "name": "ipython",
    "version": 3
   },
   "file_extension": ".py",
   "mimetype": "text/x-python",
   "name": "python",
   "nbconvert_exporter": "python",
   "pygments_lexer": "ipython3",
   "version": "3.9.13"
  }
 },
 "nbformat": 4,
 "nbformat_minor": 4
}
