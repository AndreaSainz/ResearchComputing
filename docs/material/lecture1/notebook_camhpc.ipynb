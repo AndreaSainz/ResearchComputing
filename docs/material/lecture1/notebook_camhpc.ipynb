{
 "cells": [
  {
   "cell_type": "markdown",
   "metadata": {
    "id": "VVYeubPuDFyi"
   },
   "source": [
    "# How to use the computing cluster in cambridge\n",
    "\n",
    "The Cambridge research computing service documentation is [here](https://docs.hpc.cam.ac.uk/hpc/index.html)."
   ]
  },
  {
   "cell_type": "markdown",
   "metadata": {},
   "source": [
    "## Connecting the cluster"
   ]
  },
  {
   "cell_type": "markdown",
   "metadata": {},
   "source": [
    "The usual way to connect to the cluster is via `ssh`.\n",
    "\n",
    "**Note**: `ssh` stands for Secure Shell Protocol and you can read more about it [here](https://en.wikipedia.org/wiki/Secure_Shell).\n",
    "\n",
    "You need to ssh with your username, which is likely to be your university id.\n",
    "\n",
    "For example, in a terminal type:  \n",
    "\n",
    "```bash\n",
    "ssh bb667@login-icelake.hpc.cam.ac.uk\n",
    "```\n",
    "\n",
    "Here `bb667` is my username and `login-icelake.hpc.cam.ac.uk` identify the cluster login node.\n",
    "\n",
    "\n",
    "You would then be prompted with the following message: \n",
    "\n",
    "```bash\n",
    "\n",
    "        <><><><><><><><><><><><><><><><><><><><><><><><><><><><><><>\n",
    "        <>                                                        <>\n",
    "        <>                        !WARNING!                       <>\n",
    "        <>                                                        <>\n",
    "        <>                    RCS CSD3 Facility                   <>\n",
    "        <>             Unauthorised Access Prohibited             <>\n",
    "        <>    Use of this system constitutes acceptance of our    <>\n",
    "        <>                     policies - see                     <>\n",
    "        <> http://docs.hpc.cam.ac.uk/hpc/user-guide/policies.html<>\n",
    "        <>                                                        <>\n",
    "        <><><><><><><><><><><><><><><><><><><><><><><><><><><><><><>\n",
    "\n",
    "\n",
    "(bb667@login-icelake.hpc.cam.ac.uk) Password: \n",
    "```\n",
    "\n",
    "After entering your password, you will be prompted with \n",
    "\n",
    "```bash\n",
    "(bb667@login-icelake.hpc.cam.ac.uk) TOTP Verification Code:\n",
    "```\n",
    "\n",
    "TOTP means Time-based One-Time Password. You would typically get it from your mobile app after setting up Multi-Factor Authentication (MFA).To set up MFA for CSD3, see [here](https://docs.hpc.cam.ac.uk/hpc/user-guide/mfa.html).\n",
    "\n",
    "\n",
    "After entering the TOTP code, you will be connected to the cluster and should see something like this:\n",
    "\n",
    "```bash\n",
    "[bb667@login-q-2 ~]$\n",
    "```\n",
    "\n",
    "Everything you do from then on is done on the cluster, remotely. \n",
    "\n",
    "None of your local files or environment variables are available on the cluster. "
   ]
  },
  {
   "cell_type": "markdown",
   "metadata": {},
   "source": [
    "## Environment variables"
   ]
  },
  {
   "cell_type": "markdown",
   "metadata": {},
   "source": [
    "If you type: \n",
    "\n",
    "```bash \n",
    "printenv\n",
    "```\n",
    "\n",
    "You should see all the environment variables that are available to you on the cluster. \n",
    "\n",
    "You can print individual variables by typing: \n",
    "\n",
    "```bash \n",
    "echo $HOME\n",
    "```\n",
    "\n",
    "which should print `/home/bb667` (with your id instead of `bb667`).\n",
    "\n",
    "If you do: \n",
    "\n",
    "```bash\n",
    "vim bashrc\n",
    "```\n",
    "\n",
    "You will see a list of environment variables that are explicitely set, including ones that you may have set up yourself in a previous session. \n",
    "\n",
    "To exit vim, type `:q` and then press <kbd>Enter</kbd>.\n",
    "\n",
    "The bashrc file is automatically loaded when you start a new session. If you update it and want to apply the changes, you need to type: \n",
    "\n",
    "```bash\n",
    "source ~/.bashrc\n",
    "```\n",
    "\n",
    "Note that we use `~` which is a shortcut for your home directory. \n"
   ]
  },
  {
   "cell_type": "markdown",
   "metadata": {},
   "source": [
    "## Importing files to the cluster"
   ]
  },
  {
   "cell_type": "markdown",
   "metadata": {},
   "source": [
    "To copy files or folders from your local machine to the cluster we use `scp`. \n",
    "\n",
    "**Note**: `scp` stands for Secure Copy Protocol and you can read more about it [here](https://en.wikipedia.org/wiki/Secure_copy_protocol).\n",
    "\n",
    "Let's go back to your local machine and open a terminal window. "
   ]
  },
  {
   "cell_type": "markdown",
   "metadata": {},
   "source": [
    "find . -name \"*.sh\" -exec sed -i \"s/gsf29/$USER/g\" {} +\n",
    "\n",
    "\n",
    "\n",
    "\n",
    "Then\n",
    "\n",
    "```bash\n",
    "module load miniconda/3\n",
    "python --version\n",
    "python3.11 -m venv base_311env\n",
    "source base_311env/bin/activate\n",
    "pip install jupyter\n",
    "```\n",
    "\n",
    "\n",
    "Create a kernel for the jupyter notebook\n",
    "\n",
    "```bash\n",
    "python -m ipykernel install --user --name=base_311env --display-name \"base_311env\"\n",
    "```\n",
    "\n",
    "\n",
    "Run the job\n",
    "\n",
    "```bash\n",
    "sbatch start_jupyter_1day_icelake.slurm\n",
    "```\n",
    "\n",
    "To check the job status, type:\n",
    "\n",
    "```bash\n",
    "squeue -u bb667\n",
    "```\n",
    "\n",
    "(Replace `bb667` with your username.)\n",
    "\n",
    "It should print something like this:\n",
    "\n",
    "```bash\n",
    "             JOBID PARTITION     NAME     USER ST       TIME  NODES NODELIST(REASON)\n",
    "          61986749   icelake start-ju    bb667 PD       0:00      1 (Priority)\n",
    "```\n",
    "\n",
    "`ST` stands for status and `PD` means pending. This means\n",
    "that the job is in the queue.\n",
    "\n",
    "The job is running when `ST` shows `R` (running).\n",
    "\n",
    "Once we have connection.yml\n",
    "\n",
    "```bash\n",
    "(base_311env) [bb667@login-q-4 host_jupyter]$ vim connection.yml \n",
    "```\n",
    "\n",
    "should show: \n",
    "\n",
    "```yaml\n",
    "host: cpu-q-236\n",
    "port: 15903\n",
    "password: MCfFC0MxJgxS6BIe\n",
    "```\n",
    "\n",
    "Adapt the url\n",
    "\n",
    "\n",
    "https://login-web.hpc.cam.ac.uk/node/<***-*-***>/<port>/lab/\n",
    "\n",
    "with the data from the connection.yml file:\n",
    "\n",
    "https://login-web.hpc.cam.ac.uk/node/cpu-q-236/22506/lab/\n",
    "\n",
    "Open Chrome and paste the url. \n"
   ]
  },
  {
   "cell_type": "code",
   "execution_count": null,
   "metadata": {
    "vscode": {
     "languageId": "plaintext"
    }
   },
   "outputs": [],
   "source": []
  },
  {
   "cell_type": "markdown",
   "metadata": {},
   "source": []
  }
 ],
 "metadata": {
  "colab": {
   "authorship_tag": "ABX9TyMxA3MikQu6HqzjYlVwK9lQ",
   "mount_file_id": "1ReIH5du5mFG-773sn9dNEA04qoevEq5O",
   "provenance": [],
   "toc_visible": true
  },
  "kernelspec": {
   "display_name": "Python 3 (ipykernel)",
   "language": "python",
   "name": "python3"
  },
  "language_info": {
   "codemirror_mode": {
    "name": "ipython",
    "version": 3
   },
   "file_extension": ".py",
   "mimetype": "text/x-python",
   "name": "python",
   "nbconvert_exporter": "python",
   "pygments_lexer": "ipython3",
   "version": "3.9.13"
  }
 },
 "nbformat": 4,
 "nbformat_minor": 4
}
