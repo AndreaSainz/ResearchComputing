{
 "cells": [
  {
   "cell_type": "markdown",
   "metadata": {},
   "source": [
    "# Building your Python package\n",
    "\n",
    "\n",
    "Building your own Python package is easy. \n",
    "\n",
    "You need to:\n",
    "\n",
    "- make a folder where you will store your package\n",
    "- create the relevant configuration files\n",
    "- write the code you want your package to contain\n",
    "- `pip` install it\n",
    "\n",
    "We go over these steps here, and then you should **practice**.\n",
    "\n",
    "\n",
    "## What is a Python package?\n",
    "\n",
    "\n",
    "A Python package is an ensemble of functions that serve a specific purpose.\n",
    "\n",
    "The library of functions is often split into multiple files, containing subset of functions, the split follows common sense. \n",
    "Each subset/file is often referred to as a *module*. \n",
    "\n",
    "An example of a well-maintained package is [getdist](https://github.com/cmbant/getdist).\n",
    "\n",
    "<div class=\"exercise-box\">\n",
    "**Exercise:** Click on [getdist](https://github.com/cmbant/getdist) and look inside the repository. \n",
    "Identify the configuration files and modules. \n",
    "</div>\n",
    "\n",
    "\n",
    "## The folder structure of a Python package\n",
    "\n",
    "\n",
    "### Minimal package structure\n",
    "\n",
    "The structure is simple. A minimal package file structure would look like this:\n",
    "\n",
    "```bash\n",
    ".\n",
    "├── pyproject.toml               # Configuration \n",
    "├── README.md                    # Instructions\n",
    "├── package_name/                # Package folder with codes\n",
    "│   ├── __init__.py\n",
    "│   ├── module1.py\n",
    "│   ├── module2.py\n",
    "│   └── module3.py  \n",
    "├── dist/                        # Distribution files\n",
    "├── docs/                        # Documentation files\n",
    "└── tests/                       # Test files\n",
    "```\n",
    "\n",
    "We will cover `dist` `test` and `docs` later. And you can ignore this for now and focus on the rest.\n",
    "\n",
    "<div class=\"exercise-box\">\n",
    "**Exercise:** Create a folder called `my_package` and create the minimal file structure above with a simple `module1.py` file.\n",
    "The `module1.py` file should contain a simple function `print_name` that prints \"Hello, `<your name>`!\".\n",
    "\n",
    "So, you should be able to run:\n",
    "\n",
    "```bash\n",
    "pip install -e .\n",
    "```\n",
    "from inside the package folder to install it.\n",
    "\n",
    "Then in a python session you should be able to run:\n",
    "\n",
    "```python\n",
    "import package_name as mypkg\n",
    "mypkg.print_name()\n",
    "```\n",
    "\n",
    "and it should print \"Hello, `<your name>`!\".\n",
    "\n",
    "**Tip:** Use Google and ChatGPT to help you.\n",
    "\n",
    "</div>\n",
    "\n",
    "\n",
    "### Full package structure\n",
    "\n",
    "As serious package developers, you need to be organized. Here is the full package structure you should follow from now on:\n",
    "\n",
    "```bash\n",
    "my_package/\n",
    "├── .gitignore                    # Git ignore file for unnecessary files\n",
    "├── .readthedocs.yaml             # Configuration for Read the Docs\n",
    "├── README.md                     # Project overview and instructions\n",
    "├── pyproject.toml                # Project configuration, dependencies, and build settings\n",
    "├── MANIFEST.in                   # Ensures additional files are included/excluded in/from the package\n",
    "├── package_name/                 # Source code directory                    # Core module \n",
    "│   │   ├── __init__.py           # Init file \n",
    "│   │   ├── base.py               # Base classes and functions\n",
    "│   │   └── version.py            # Dynamic version handling for the package\n",
    "│   ├── sub_module1/              # Sub module 1\n",
    "│   │   ├── __init__.py           # Init file \n",
    "│   │   ├── module1.py            # Sub module 1\n",
    "│   │   └── module1_functions.py  # Sub module 1 functions\n",
    "│   ├── sub_module2/              # Sub module 2\n",
    "│   │   ├── __init__.py           # Init file \n",
    "│   │   └── module2.py            # Sub module 2\n",
    "├── dist/                         # Distribution files\n",
    "├── docs/                         # Sphinx documentation directory\n",
    "└── tests/                        # Test suite directory\n",
    "\n",
    "```\n",
    "\n",
    "Note the two hidden files:\n",
    "\n",
    "- `.gitignore` to tell `git` which files to ignore\n",
    "- `.readthedocs.yaml` to tell [Read the Docs](https://readthedocs.org/) how to build the documentation\n",
    "\n",
    "<div class=\"exercise-box\">\n",
    "**Exercise:** Create an account on [Read the Docs](https://readthedocs.org/), you will need it.\n",
    "</div>\n",
    "\n",
    "\n",
    "\n",
    "\n",
    "## Working example\n",
    "\n",
    "We now go through a working example of a package that deals with companies.\n",
    "It will shows you the crucial steps of building a package following good practices. \n",
    "\n",
    "\n",
    "### README.md\n",
    "\n",
    "`README.md` is a markdown file that instructs users on what the package is about, how to install and use it.\n",
    " \n",
    "\n",
    "```plaintext\n",
    "# Company Package\n",
    "\n",
    "<description of the package>\n",
    "\n",
    "## Features\n",
    "\n",
    "<description of the features>\n",
    "\n",
    "## Installation\n",
    "\n",
    "<description of the installation>\n",
    "\n",
    "## Usage\n",
    "\n",
    "<baseline example of usage>\n",
    "\n",
    "## Documentation\n",
    "\n",
    "Link to the [documentation page](https://your-readthedocs-url-here).\n",
    "\n",
    "## Contributing\n",
    "\n",
    "Contributions via pull requests are welcome! \n",
    "\n",
    "## License\n",
    "\n",
    "<description of the license>\n",
    "```\n",
    "\n",
    "### Core module\n",
    "\n",
    "The core module contains the base class and functions. \n",
    "\n",
    "In our example, it is:\n",
    "\n",
    "```bash\n",
    "companies_package/\n",
    "└── company/ \n",
    "    │   ├── __init__.py           # Init file for the 'companies' package\n",
    "    │   ├── base_company.py            # Base module containing the main `Company` class\n",
    "    │   └── version.py            # Dynamic version handling for the package\n",
    "```\n",
    "\n",
    "Look at the files in our repo (TBD:add link).\n",
    "\n",
    "Note that the files `__init__.py` and `version.py` are required, and \n",
    "their names are always this. \n",
    "\n",
    "`__init__.py` is what turns your code into a package. \n",
    "\n",
    "`version.py` sets-up the version number. \n",
    "\n",
    "\n",
    "### pyproject.toml\n",
    "\n",
    "`pyproject.toml` is the configuration file for the package. \n",
    "\n",
    "Here is what it should look like:\n",
    "\n",
    "```toml\n",
    "[build-system]\n",
    "requires = [\"setuptools\", \"wheel\", \"setuptools_scm\"]  # Build requirements\n",
    "build-backend = \"setuptools.build_meta\"\n",
    "\n",
    "[project]\n",
    "name = \"company\" # name of the package must match the core folder name\n",
    "dynamic = [\"version\"]\n",
    "description = \"A Python package for modeling companies across various sectors.\"\n",
    "readme = \"README.md\"\n",
    "requires-python = \">=3.9\"\n",
    "license = { file = \"LICENSE\" }\n",
    "authors = [\n",
    "    { name = \"Your Name\", email = \"your.email@example.com\" },\n",
    "    { name = \"Boris\", email = \"boris.bolliet@gmail.com\" }\n",
    "]\n",
    "keywords = [\"companies\", \"finance\", \"healthcare\", \"technology\"]\n",
    "classifiers = [\n",
    "    \"Development Status :: 4 - Beta\",\n",
    "    \"Intended Audience :: Economists\",\n",
    "    \"License :: OSI Approved :: MIT License\",\n",
    "    \"Programming Language :: Python :: 3\",\n",
    "    \"Topic :: Software Development :: Libraries\"\n",
    "]\n",
    "\n",
    "# Runtime dependencies\n",
    "dependencies = [\n",
    "    \"numpy\",\n",
    "    \"pandas\",\n",
    "    \"yfinance\",\n",
    "]\n",
    "\n",
    "[project.urls]\n",
    "\"Documentation\" = \"https://your-readthedocs-url-here\"\n",
    "\"Source\" = \"https://github.com/yourusername/companies_package\"\n",
    "\"Issues\" = \"https://github.com/yourusername/companies_package/issues\"\n",
    "\n",
    "\n",
    "[tool.setuptools_scm]\n",
    "write_to = \"company/version.py\"  # Where to write the dynamic version\n",
    "\n",
    "[tool.setuptools.packages.find]\n",
    "where = [\".\"]\n",
    "```\n",
    "\n",
    "For further details, see [here](https://packaging.python.org/en/latest/guides/writing-pyproject-toml/#a-full-example).\n",
    "\n",
    "\n",
    "### Package initialisation\n",
    "\n",
    "To setup the dynamic versioning and development workflow.\n",
    "\n",
    "From inside the package folder, in a terminal, we start with:\n",
    "\n",
    "```bash\n",
    "git init\n",
    "git add .\n",
    "git commit -m \"Initial commit\"\n",
    "git tag 0.0.0beta0\n",
    "```\n",
    "\n",
    "We can now install the package in development mode with:\n",
    "\n",
    "```bash\n",
    "pip install -e .\n",
    "```\n",
    "\n",
    "We can now import the package in a python session, or notebook:\n"
   ]
  },
  {
   "cell_type": "code",
   "execution_count": 1,
   "metadata": {},
   "outputs": [
    {
     "name": "stdout",
     "output_type": "stream",
     "text": [
      "Company package version: 0.0.0b1.dev0+gcad342e.d20241025\n"
     ]
    }
   ],
   "source": [
    "import company as cp"
   ]
  },
  {
   "cell_type": "markdown",
   "metadata": {},
   "source": [
    "We can then try the package out, testing some of the \n",
    "methods of the base class. \n",
    "\n",
    "First, we create a company instance:"
   ]
  },
  {
   "cell_type": "code",
   "execution_count": 2,
   "metadata": {},
   "outputs": [],
   "source": [
    "my_company = cp.Company(name=\"Nvidia\", ticker=\"NVDA\")"
   ]
  },
  {
   "cell_type": "markdown",
   "metadata": {},
   "source": [
    "Then we can test the display method:"
   ]
  },
  {
   "cell_type": "code",
   "execution_count": 3,
   "metadata": {},
   "outputs": [
    {
     "name": "stdout",
     "output_type": "stream",
     "text": [
      "Company Name: Nvidia\n",
      "Ticker Symbol is: NVDA\n"
     ]
    }
   ],
   "source": [
    "my_company.display_info()"
   ]
  },
  {
   "cell_type": "markdown",
   "metadata": {},
   "source": [
    "Or the availability of the stock data:"
   ]
  },
  {
   "cell_type": "code",
   "execution_count": 4,
   "metadata": {},
   "outputs": [
    {
     "data": {
      "text/plain": [
       "'Available on yfinance'"
      ]
     },
     "execution_count": 4,
     "metadata": {},
     "output_type": "execute_result"
    }
   ],
   "source": [
    "my_company.get_yfinance_status()"
   ]
  },
  {
   "cell_type": "markdown",
   "metadata": {},
   "source": [
    "And if it is available, we can get its stock history:"
   ]
  },
  {
   "cell_type": "code",
   "execution_count": 5,
   "metadata": {},
   "outputs": [
    {
     "name": "stdout",
     "output_type": "stream",
     "text": [
      "                                 Open        High         Low       Close  \\\n",
      "Date                                                                        \n",
      "2024-10-18 00:00:00-04:00  138.669998  138.899994  137.279999  138.000000   \n",
      "2024-10-21 00:00:00-04:00  138.130005  143.710007  138.000000  143.710007   \n",
      "2024-10-22 00:00:00-04:00  142.910004  144.419998  141.779999  143.589996   \n",
      "2024-10-23 00:00:00-04:00  142.029999  142.429993  137.460007  139.559998   \n",
      "2024-10-24 00:00:00-04:00  140.820007  141.350006  138.460007  140.410004   \n",
      "\n",
      "                              Volume  Dividends  Stock Splits  \n",
      "Date                                                           \n",
      "2024-10-18 00:00:00-04:00  176090200        0.0           0.0  \n",
      "2024-10-21 00:00:00-04:00  264554500        0.0           0.0  \n",
      "2024-10-22 00:00:00-04:00  226311600        0.0           0.0  \n",
      "2024-10-23 00:00:00-04:00  285930000        0.0           0.0  \n",
      "2024-10-24 00:00:00-04:00  171852600        0.0           0.0  \n"
     ]
    }
   ],
   "source": [
    "stock_history = my_company.get_stock_info(period=\"1mo\")\n",
    "print(stock_history.tail())"
   ]
  },
  {
   "cell_type": "markdown",
   "metadata": {},
   "source": [
    "### Package development\n",
    "\n",
    "With this good starting point, we can now start developing the package. \n",
    "\n",
    "\n",
    "We create a sub module"
   ]
  },
  {
   "cell_type": "code",
   "execution_count": 6,
   "metadata": {},
   "outputs": [
    {
     "name": "stdout",
     "output_type": "stream",
     "text": [
      "Company Name: HealthCare Inc.\n",
      "Ticker Symbol is: HCI\n",
      "Specialty: Oncology\n",
      "Drug Manufacturer: Yes\n"
     ]
    }
   ],
   "source": [
    "import company as cp\n",
    "\n",
    "med_comp = cp.MedicalCompany(name=\"HealthCare Inc.\", specialty=\"Oncology\", drug_manufacturer=True, ticker=\"HCI\")\n",
    "med_comp.display_info()\n"
   ]
  },
  {
   "cell_type": "markdown",
   "metadata": {},
   "source": []
  }
 ],
 "metadata": {
  "kernelspec": {
   "display_name": "base",
   "language": "python",
   "name": "python3"
  },
  "language_info": {
   "codemirror_mode": {
    "name": "ipython",
    "version": 3
   },
   "file_extension": ".py",
   "mimetype": "text/x-python",
   "name": "python",
   "nbconvert_exporter": "python",
   "pygments_lexer": "ipython3",
   "version": "3.9.13"
  }
 },
 "nbformat": 4,
 "nbformat_minor": 2
}
