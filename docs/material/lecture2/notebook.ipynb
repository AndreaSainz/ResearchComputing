{
 "cells": [
  {
   "cell_type": "markdown",
   "metadata": {
    "id": "VVYeubPuDFyi"
   },
   "source": [
    "# L2: Recap on Python\n",
    "\n"
   ]
  },
  {
   "cell_type": "markdown",
   "metadata": {},
   "source": [
    "## Python packages"
   ]
  },
  {
   "cell_type": "markdown",
   "metadata": {},
   "source": [
    "To force installation from sources do\n",
    "\n",
    "```python\n",
    "pip install classy_sz --no-binary :all:\n",
    "```\n",
    "\n",
    "To force installation from pre-compiled binaries do\n",
    "\n",
    "```python\n",
    "pip install classy_sz --only-binary :all:\n",
    "```\n",
    "\n",
    "To force verbose while installing add `-vvvv` option to pip command, e.g.:\n",
    "\n",
    "```python\n",
    "pip install classy_sz -vvvv\n",
    "```"
   ]
  },
  {
   "cell_type": "markdown",
   "metadata": {},
   "source": [
    "## Building wheels\n",
    "\n",
    "To build wheels for multiple platforms we use `cibuildwheel` package.\n",
    "\n",
    "### Docker\n",
    "We use docker to emulate Linux environment.\n",
    "\n",
    "```python\n",
    "docker --version\n",
    "```\n",
    "\n",
    "We can then, from our package repo run:\n",
    "\n",
    "```python\n",
    "CIBW_PLATFORM=linux cibuildwheel --output-dir dist\n",
    "```"
   ]
  },
  {
   "cell_type": "markdown",
   "metadata": {},
   "source": []
  },
  {
   "cell_type": "markdown",
   "metadata": {},
   "source": []
  }
 ],
 "metadata": {
  "colab": {
   "authorship_tag": "ABX9TyMxA3MikQu6HqzjYlVwK9lQ",
   "mount_file_id": "1ReIH5du5mFG-773sn9dNEA04qoevEq5O",
   "provenance": [],
   "toc_visible": true
  },
  "kernelspec": {
   "display_name": "Python 3 (ipykernel)",
   "language": "python",
   "name": "python3"
  },
  "language_info": {
   "codemirror_mode": {
    "name": "ipython",
    "version": 3
   },
   "file_extension": ".py",
   "mimetype": "text/x-python",
   "name": "python",
   "nbconvert_exporter": "python",
   "pygments_lexer": "ipython3",
   "version": "3.9.13"
  }
 },
 "nbformat": 4,
 "nbformat_minor": 4
}
